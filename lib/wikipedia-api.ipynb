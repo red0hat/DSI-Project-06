{
 "cells": [
  {
   "cell_type": "code",
   "execution_count": 1,
   "metadata": {
    "collapsed": true
   },
   "outputs": [],
   "source": [
    "from requests import get\n",
    "from urllib import quote\n",
    "import pandas as pd\n",
    "from bs4 import BeautifulSoup\n",
    "from database_connections import connect_to_postgres\n",
    "import unidecode\n",
    "import wikipedia\n"
   ]
  },
  {
   "cell_type": "code",
   "execution_count": 2,
   "metadata": {
    "collapsed": false
   },
   "outputs": [],
   "source": [
    "def create_query_param_string(params):\n",
    "    param_list = [key+'='+str(value) for key, value in params.items()]\n",
    "    return '?'+'&'.join(param_list)\n",
    "\n",
    "def parse_pages_from_json(response_json):\n",
    "    return response_json['query']['pages']\n",
    "\n",
    "def parse_headings_from_json(response_json):\n",
    "    return response_json['mobileview']['sections']\n",
    "\n",
    "#ADDED\n",
    "def parse_category_pages_from_json(response_json):\n",
    "    return response.json()['query']['categorymembers']\n",
    "\n",
    "def wikipedia_page_format(page):\n",
    "    return page.lower().capitalize().replace(' ','_')\n",
    "\n",
    "base_url = \"https://en.wikipedia.org/w/api.php\"\n",
    "\n",
    "def wikipedia_get(title, category=False):\n",
    "    \"\"\"this function returns the text of a wikipedia page\"\"\"\n",
    "    params = { 'action' : 'query',\n",
    "               'format' : 'json',\n",
    "               'prop' : 'extracts',\n",
    "               'exlimit' : 'maxl'\n",
    "             }\n",
    "    \n",
    "    if category:\n",
    "        title = \"Category:\"+title\n",
    "        \n",
    "    params['titles'] = wikipedia_page_format(title)\n",
    "    query_param_string = create_query_param_string(params)\n",
    "    response = get(base_url+query_param_string)\n",
    "    return response.json()['query']['pages']\n",
    "\n",
    "def wikipedia_get_category(category):\n",
    "    params = { 'action' : 'query',\n",
    "               'format' : 'json',\n",
    "               'prop' : 'extracts',\n",
    "               'exlimit' : 'maxl'\n",
    "             }\n",
    "    \n",
    "    params['titles'] = 'Category:'+quote(category)\n",
    "    query_param_string = create_query_param_string(params)\n",
    "    response = get(base_url+query_param_string)\n",
    "    try:\n",
    "        return parse_pages_from_json(response.json())\n",
    "    except:\n",
    "        return response\n",
    "    \n",
    "def wikipedia_get_pages_for_category(category):\n",
    "    params = { 'action' : 'query',\n",
    "               'format' : 'json',\n",
    "               'list' : 'categorymembers',\n",
    "               'cmlimit' : 'max'\n",
    "             }\n",
    "    \n",
    "    params['cmtitle'] = 'Category:'+wikipedia_page_format(category)\n",
    "    query_param_string = create_query_param_string(params)\n",
    "    response = get(base_url+query_param_string)\n",
    "    return response.json()['query']['categorymembers']\n",
    "\n",
    "# def wikipedia_get_page_headings(title):\n",
    "#     params = { 'action' : 'mobileview',\n",
    "#                'format' : 'json',\n",
    "#                'prop' : 'sections',\n",
    "#                'sections' : 'all'\n",
    "#              }\n",
    "    \n",
    "#     params['page'] = quote(title)\n",
    "#     query_param_string = create_query_param_string(params)\n",
    "#     response = get(base_url+query_param_string)\n",
    "#     try:\n",
    "#         return response.json() #parse_headings_from_json(response.json())\n",
    "#     except:\n",
    "#         return response\n",
    "\n",
    "# https://en.wikipedia.org/w\n",
    "#     /api.php?\n",
    "#     action=parse&format=json&pageid={}&prop=text%7Csections&contentmodel=wikitext\n",
    "\n",
    "def wikipedia_get_sections_by_id(pageid):\n",
    "    \"\"\"this function returns the text of a wikipedia page\"\"\"\n",
    "    params = { 'action' : 'parse',\n",
    "               'format' : 'json',\n",
    "               'prop' : 'sections'\n",
    "             }\n",
    "        \n",
    "    params['pageid'] = pageid\n",
    "    query_param_string = create_query_param_string(params)\n",
    "    response = get(base_url+query_param_string)\n",
    "    return response.json()#['query']['pages']"
   ]
  },
  {
   "cell_type": "code",
   "execution_count": 3,
   "metadata": {
    "collapsed": true
   },
   "outputs": [],
   "source": [
    "category = 'Sandwiches'"
   ]
  },
  {
   "cell_type": "code",
   "execution_count": 4,
   "metadata": {
    "collapsed": false
   },
   "outputs": [],
   "source": [
    "category_dict = wikipedia_get_category(category)"
   ]
  },
  {
   "cell_type": "code",
   "execution_count": 5,
   "metadata": {
    "collapsed": false
   },
   "outputs": [
    {
     "data": {
      "text/plain": [
       "{u'757471': {u'extract': u'',\n",
       "  u'ns': 14,\n",
       "  u'pageid': 757471,\n",
       "  u'title': u'Category:Sandwiches'}}"
      ]
     },
     "execution_count": 5,
     "metadata": {},
     "output_type": "execute_result"
    }
   ],
   "source": [
    "category_dict"
   ]
  },
  {
   "cell_type": "code",
   "execution_count": 9,
   "metadata": {
    "collapsed": false
   },
   "outputs": [
    {
     "data": {
      "text/plain": [
       "757471"
      ]
     },
     "execution_count": 9,
     "metadata": {},
     "output_type": "execute_result"
    }
   ],
   "source": [
    "category_number"
   ]
  },
  {
   "cell_type": "code",
   "execution_count": 6,
   "metadata": {
    "collapsed": false
   },
   "outputs": [
    {
     "name": "stdout",
     "output_type": "stream",
     "text": [
      "Connected to server joshuacook.me.\n"
     ]
    }
   ],
   "source": [
    "category_number = int(unidecode.unidecode(category_dict.keys()[0]))\n",
    "\n",
    "connection, cursor = connect_to_postgres('local')\n",
    "update_sql = \"\"\"\n",
    "    INSERT INTO category\n",
    "    (category_id, category_name) VALUES ({}, '{}');\n",
    "    \"\"\".format(category_number,category)\n",
    "cursor.execute(update_sql)\n",
    "connection.commit()\n",
    "connection.close()"
   ]
  },
  {
   "cell_type": "code",
   "execution_count": 7,
   "metadata": {
    "collapsed": false
   },
   "outputs": [
    {
     "data": {
      "text/plain": [
       "[{u'ns': 0, u'pageid': 82425, u'title': u'Sandwich'},\n",
       " {u'ns': 0, u'pageid': 33686134, u'title': u'List of sandwiches'},\n",
       " {u'ns': 0, u'pageid': 49033306, u'title': u'Afghani burger'},\n",
       " {u'ns': 0, u'pageid': 2546911, u'title': u'Al pastor'},\n",
       " {u'ns': 0, u'pageid': 31439892, u'title': u'Bagel toast'},\n",
       " {u'ns': 0, u'pageid': 26081358, u'title': u'Bake and Shark'},\n",
       " {u'ns': 0, u'pageid': 3334477, u'title': u'Baked bean sandwich'},\n",
       " {u'ns': 0, u'pageid': 857888, u'title': u'B\\xe1nh m\\xec'}]"
      ]
     },
     "execution_count": 7,
     "metadata": {},
     "output_type": "execute_result"
    }
   ],
   "source": [
    "pages_list = wikipedia_get_pages_for_category('Sandwiches')\n",
    "pages_list[:8]"
   ]
  },
  {
   "cell_type": "code",
   "execution_count": 8,
   "metadata": {
    "collapsed": false
   },
   "outputs": [
    {
     "name": "stdout",
     "output_type": "stream",
     "text": [
      "Connected to server joshuacook.me.\n",
      "Adding Sandwich, id=82425\n"
     ]
    },
    {
     "ename": "IntegrityError",
     "evalue": "null value in column \"category_id\" violates not-null constraint\nDETAIL:  Failing row contains (82425, null, Sandwich, 2017-02-03 00:43:36.914328, A sandwich is a food item consisting of one or more types of foo..., {Etymology,Usage,Varieties}).\n",
     "output_type": "error",
     "traceback": [
      "\u001b[0;31m---------------------------------------------------------------------------\u001b[0m",
      "\u001b[0;31mIntegrityError\u001b[0m                            Traceback (most recent call last)",
      "\u001b[0;32m<ipython-input-8-352a5d1c49d0>\u001b[0m in \u001b[0;36m<module>\u001b[0;34m()\u001b[0m\n\u001b[1;32m     26\u001b[0m         \u001b[0mVALUES\u001b[0m \u001b[0;34m(\u001b[0m\u001b[0;34m{\u001b[0m\u001b[0;34m}\u001b[0m\u001b[0;34m,\u001b[0m \u001b[0;34m{\u001b[0m\u001b[0;34m}\u001b[0m\u001b[0;34m)\u001b[0m\u001b[0;34m;\u001b[0m\u001b[0;34m\u001b[0m\u001b[0m\n\u001b[1;32m     27\u001b[0m         \"\"\".format(page_id, category_number)\n\u001b[0;32m---> 28\u001b[0;31m     \u001b[0mcursor\u001b[0m\u001b[0;34m.\u001b[0m\u001b[0mexecute\u001b[0m\u001b[0;34m(\u001b[0m\u001b[0minsert_page\u001b[0m\u001b[0;34m)\u001b[0m\u001b[0;34m\u001b[0m\u001b[0m\n\u001b[0m\u001b[1;32m     29\u001b[0m     \u001b[0mcursor\u001b[0m\u001b[0;34m.\u001b[0m\u001b[0mexecute\u001b[0m\u001b[0;34m(\u001b[0m\u001b[0minsert_page_cate\u001b[0m\u001b[0;34m)\u001b[0m\u001b[0;34m\u001b[0m\u001b[0m\n\u001b[1;32m     30\u001b[0m     \u001b[0mconnection\u001b[0m\u001b[0;34m.\u001b[0m\u001b[0mcommit\u001b[0m\u001b[0;34m(\u001b[0m\u001b[0;34m)\u001b[0m\u001b[0;34m\u001b[0m\u001b[0m\n",
      "\u001b[0;31mIntegrityError\u001b[0m: null value in column \"category_id\" violates not-null constraint\nDETAIL:  Failing row contains (82425, null, Sandwich, 2017-02-03 00:43:36.914328, A sandwich is a food item consisting of one or more types of foo..., {Etymology,Usage,Varieties}).\n"
     ]
    }
   ],
   "source": [
    "connection, cursor = connect_to_postgres('remote')\n",
    "\n",
    "for i in pages_list:\n",
    "    title = i[u'title']\n",
    "    if 'Category:' in title:\n",
    "        continue\n",
    "    page_id = i[u'pageid']\n",
    "    title = title.replace(\"'\",\"\")\n",
    "    html = wikipedia.page(pageid=page_id).content\n",
    "    html = html.replace(\"'\",\"\")\n",
    "    print u\"Adding {}, id={}\".format(title, page_id)\n",
    "    sections = wikipedia_get_sections_by_id(page_id)\n",
    "    sections[sections.keys()[0]]['sections']\n",
    "    section_list = ['']\n",
    "    for i in sections[sections.keys()[0]]['sections']:\n",
    "        if i['anchor'] not in ['History','See_also','References','External_links','Gallery']:\n",
    "            section_list.append(unidecode.unidecode(i['anchor']))\n",
    "    if len(section_list) > 1:\n",
    "        section_list.pop(0)\n",
    "    insert_page = u\"\"\"\n",
    "        INSERT INTO page (page_id, title, page, section_head)\n",
    "        VALUES ({}, '{}', '{}', ARRAY{});\n",
    "        \"\"\".format(page_id, title, html, section_list)\n",
    "    insert_page_cate = u\"\"\"\n",
    "        INSERT INTO page_cate (page_id, category_id)\n",
    "        VALUES ({}, {});\n",
    "        \"\"\".format(page_id, category_number)\n",
    "    cursor.execute(insert_page)\n",
    "    cursor.execute(insert_page_cate)\n",
    "    connection.commit()\n",
    "\n",
    "cursor.close()\n",
    "connection.close()\n"
   ]
  },
  {
   "cell_type": "code",
   "execution_count": null,
   "metadata": {
    "collapsed": false
   },
   "outputs": [],
   "source": [
    "\n"
   ]
  },
  {
   "cell_type": "markdown",
   "metadata": {},
   "source": [
    "# NOW UPLOAD TO DATABASE!!!!\n",
    "\n",
    "### then abstract to a module.\n"
   ]
  },
  {
   "cell_type": "code",
   "execution_count": null,
   "metadata": {
    "collapsed": true
   },
   "outputs": [],
   "source": []
  },
  {
   "cell_type": "code",
   "execution_count": null,
   "metadata": {
    "collapsed": true
   },
   "outputs": [],
   "source": []
  },
  {
   "cell_type": "code",
   "execution_count": null,
   "metadata": {
    "collapsed": true
   },
   "outputs": [],
   "source": []
  },
  {
   "cell_type": "code",
   "execution_count": null,
   "metadata": {
    "collapsed": true
   },
   "outputs": [],
   "source": []
  },
  {
   "cell_type": "code",
   "execution_count": null,
   "metadata": {
    "collapsed": true
   },
   "outputs": [],
   "source": [
    "page_dict = wikipedia_get('Afghani burger')"
   ]
  },
  {
   "cell_type": "code",
   "execution_count": null,
   "metadata": {
    "collapsed": false
   },
   "outputs": [],
   "source": [
    "pageid = int(unidecode.unidecode(page_dict.keys()[0]))\n",
    "page = BeautifulSoup(page_dict[str(pageid)][u'extract'], \"html.parser\").get_text()\n"
   ]
  },
  {
   "cell_type": "code",
   "execution_count": null,
   "metadata": {
    "collapsed": true
   },
   "outputs": [],
   "source": [
    "def wikipedia_get(title, category=False):\n",
    "    \"\"\"this function returns the text of a wikipedia page\"\"\"\n",
    "    params = { 'action' : 'query',\n",
    "               'format' : 'json',\n",
    "               'prop' : 'extracts',\n",
    "               'exlimit' : 'maxl'\n",
    "             }\n",
    "    \n",
    "    if category:\n",
    "        title = \"Category:\"+title\n",
    "        \n",
    "    params['titles'] = wikipedia_page_format(title)\n",
    "    \n",
    "    query_param_string = create_query_param_string(params)\n",
    "    \n",
    "    response = get(base_url+query_param_string)\n",
    "    \n",
    "    return response.json()['query']['pages']"
   ]
  },
  {
   "cell_type": "code",
   "execution_count": null,
   "metadata": {
    "collapsed": false,
    "scrolled": true
   },
   "outputs": [],
   "source": [
    "a = wikipedia_get('Lunch')\n",
    "b = a['18589377']['extract']"
   ]
  },
  {
   "cell_type": "code",
   "execution_count": null,
   "metadata": {
    "collapsed": true
   },
   "outputs": [],
   "source": [
    "from bs4 import BeautifulSoup\n",
    "soup = BeautifulSoup(b, \"html.parser\")\n",
    "soup.get_text()"
   ]
  },
  {
   "cell_type": "code",
   "execution_count": null,
   "metadata": {
    "collapsed": false
   },
   "outputs": [],
   "source": [
    "wikipedia_get_category('Automotive technologies')"
   ]
  },
  {
   "cell_type": "code",
   "execution_count": null,
   "metadata": {
    "collapsed": false
   },
   "outputs": [],
   "source": [
    "wiki_pages_automotive_techs = wikipedia_get_pages_for_category('Automotive technologies')\n",
    "wiki_pages_automotive_techs = wiki_pages_automotive_techs[1:]\n",
    "wiki_pages_automotive_techs"
   ]
  },
  {
   "cell_type": "code",
   "execution_count": null,
   "metadata": {
    "collapsed": false
   },
   "outputs": [],
   "source": [
    "ID = [wiki_pages_automotive_techs[i]['pageid'] for i in range(len(wiki_pages_automotive_techs))]\n",
    "title = [wiki_pages_automotive_techs[i]['title'] for i in range(len(wiki_pages_automotive_techs))]\n",
    "ID_title = zip(ID, title)"
   ]
  },
  {
   "cell_type": "code",
   "execution_count": null,
   "metadata": {
    "collapsed": false
   },
   "outputs": [],
   "source": [
    "ID_title"
   ]
  },
  {
   "cell_type": "code",
   "execution_count": null,
   "metadata": {
    "collapsed": false,
    "scrolled": true
   },
   "outputs": [],
   "source": [
    "wiki_pages_automotive_techs_df = pd.DataFrame(wiki_pages_automotive_techs)\n",
    "wiki_pages_automotive_techs_df"
   ]
  },
  {
   "cell_type": "code",
   "execution_count": null,
   "metadata": {
    "collapsed": false
   },
   "outputs": [],
   "source": [
    "len(wiki_pages_automotive_techs)"
   ]
  },
  {
   "cell_type": "code",
   "execution_count": null,
   "metadata": {
    "collapsed": false
   },
   "outputs": [],
   "source": [
    "type(wiki_pages_automotive_techs)"
   ]
  },
  {
   "cell_type": "markdown",
   "metadata": {},
   "source": [
    "### Sections/Headings"
   ]
  },
  {
   "cell_type": "code",
   "execution_count": null,
   "metadata": {
    "collapsed": true
   },
   "outputs": [],
   "source": [
    "def wikipedia_get_page_headings(title):\n",
    "    params = { 'action' : 'mobileview',\n",
    "               'format' : 'json',\n",
    "               'prop' : 'sections',\n",
    "               'sections' : 'all'\n",
    "             }\n",
    "    \n",
    "    params['page'] = quote(title)\n",
    "    \n",
    "    query_param_string = create_query_param_string(params)\n",
    "    \n",
    "    response = get(base_url+query_param_string)\n",
    "    \n",
    "    try:\n",
    "        return response.json() #parse_headings_from_json(response.json())\n",
    "    except:\n",
    "        return response"
   ]
  },
  {
   "cell_type": "code",
   "execution_count": null,
   "metadata": {
    "collapsed": false
   },
   "outputs": [],
   "source": [
    "wiki_pages_headings_automotive_techs = {}\n",
    "for i in wiki_pages_automotive_techs_df['title']:\n",
    "    b = wikipedia_get_page_headings(i)\n",
    "    wiki_pages_headings_automotive_techs[i] = b\n",
    "# [wikipedia_get_page_headings(title) for title in wiki_pages_automotive_techs_df['title']]"
   ]
  },
  {
   "cell_type": "code",
   "execution_count": null,
   "metadata": {
    "collapsed": false,
    "scrolled": true
   },
   "outputs": [],
   "source": [
    "wiki_pages_headings_automotive_techs"
   ]
  },
  {
   "cell_type": "code",
   "execution_count": null,
   "metadata": {
    "collapsed": true
   },
   "outputs": [],
   "source": [
    "def wikipedia_get_page_headings2(title):\n",
    "    params = { 'action' : 'mobileview',\n",
    "               'format' : 'json',\n",
    "               'prop' : 'sections',\n",
    "               'sections' : 'all'\n",
    "             }\n",
    "    \n",
    "    params['page'] = quote(title)\n",
    "    \n",
    "    query_param_string = create_query_param_string(params)\n",
    "    \n",
    "    response = get(base_url+query_param_string)\n",
    "    \n",
    "    try:\n",
    "        return parse_headings_from_json(response.json())\n",
    "    except:\n",
    "        return response"
   ]
  },
  {
   "cell_type": "code",
   "execution_count": 43,
   "metadata": {
    "collapsed": true
   },
   "outputs": [],
   "source": [
    "import re\n",
    "sql_command = \"SELECT * FROM; page;\"\n",
    "if  not re.search('^[select]', sql_command.lower()) and re.search(';(?!$)',sql_command):\n",
    "    raise Er\n",
    "    "
   ]
  },
  {
   "cell_type": "code",
   "execution_count": 47,
   "metadata": {
    "collapsed": false
   },
   "outputs": [
    {
     "data": {
      "text/plain": [
       "'SELECT * FROM; page;'"
      ]
     },
     "execution_count": 47,
     "metadata": {},
     "output_type": "execute_result"
    }
   ],
   "source": [
    "sql_command\n"
   ]
  },
  {
   "cell_type": "code",
   "execution_count": 50,
   "metadata": {
    "collapsed": false
   },
   "outputs": [
    {
     "ename": "ValueError",
     "evalue": "The SELECT statment is not valid: SELECT * FROM; page;",
     "output_type": "error",
     "traceback": [
      "\u001b[0;31m---------------------------------------------------------------------------\u001b[0m",
      "\u001b[0;31mValueError\u001b[0m                                Traceback (most recent call last)",
      "\u001b[0;32m<ipython-input-50-8a8c45cca928>\u001b[0m in \u001b[0;36m<module>\u001b[0;34m()\u001b[0m\n\u001b[1;32m      3\u001b[0m     \u001b[0;32mprint\u001b[0m \u001b[0;34m\"OK\"\u001b[0m\u001b[0;34m\u001b[0m\u001b[0m\n\u001b[1;32m      4\u001b[0m \u001b[0;32melse\u001b[0m\u001b[0;34m:\u001b[0m\u001b[0;34m\u001b[0m\u001b[0m\n\u001b[0;32m----> 5\u001b[0;31m     \u001b[0;32mraise\u001b[0m \u001b[0mValueError\u001b[0m\u001b[0;34m(\u001b[0m\u001b[0;34m'The SELECT statment is not valid: {}'\u001b[0m\u001b[0;34m.\u001b[0m\u001b[0mformat\u001b[0m\u001b[0;34m(\u001b[0m\u001b[0msql_command\u001b[0m\u001b[0;34m)\u001b[0m\u001b[0;34m)\u001b[0m\u001b[0;34m\u001b[0m\u001b[0m\n\u001b[0m",
      "\u001b[0;31mValueError\u001b[0m: The SELECT statment is not valid: SELECT * FROM; page;"
     ]
    }
   ],
   "source": [
    "\n",
    "if  re.search('^[select]', sql_command.lower()) and not re.search(';(?!$)',sql_command):\n",
    "    print \"OK\"\n",
    "else:\n",
    "    raise ValueError('The SELECT statment is not valid: {}'.format(sql_command))\n"
   ]
  },
  {
   "cell_type": "code",
   "execution_count": 44,
   "metadata": {
    "collapsed": false
   },
   "outputs": [],
   "source": [
    "if not re.search(';(?!$)',sql_command):\n",
    "    print 34"
   ]
  },
  {
   "cell_type": "code",
   "execution_count": 45,
   "metadata": {
    "collapsed": false
   },
   "outputs": [
    {
     "data": {
      "text/plain": [
       "'SELECT * FROM; page;'"
      ]
     },
     "execution_count": 45,
     "metadata": {},
     "output_type": "execute_result"
    }
   ],
   "source": [
    "sql_command"
   ]
  },
  {
   "cell_type": "code",
   "execution_count": null,
   "metadata": {
    "collapsed": true
   },
   "outputs": [],
   "source": []
  }
 ],
 "metadata": {
  "anaconda-cloud": {},
  "kernelspec": {
   "display_name": "Python [default]",
   "language": "python",
   "name": "python2"
  },
  "language_info": {
   "codemirror_mode": {
    "name": "ipython",
    "version": 2
   },
   "file_extension": ".py",
   "mimetype": "text/x-python",
   "name": "python",
   "nbconvert_exporter": "python",
   "pygments_lexer": "ipython2",
   "version": "2.7.12"
  }
 },
 "nbformat": 4,
 "nbformat_minor": 1
}
