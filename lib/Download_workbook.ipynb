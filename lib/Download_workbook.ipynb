{
 "cells": [
  {
   "cell_type": "code",
   "execution_count": 11,
   "metadata": {
    "collapsed": false
   },
   "outputs": [
    {
     "data": {
      "text/plain": [
       "[]"
      ]
     },
     "execution_count": 11,
     "metadata": {},
     "output_type": "execute_result"
    }
   ],
   "source": [
    "# Example of easy download of content.\n",
    "\n",
    "import wikipedia\n",
    "temp2 = wikipedia.page(u'B\\xe1nh m\\xec')\n",
    "#print \"pageid: {}\".format(temp2.pageid)\n",
    "#print \"text: \" +temp2.content\n",
    "temp2.sections"
   ]
  },
  {
   "cell_type": "code",
   "execution_count": 9,
   "metadata": {
    "collapsed": false
   },
   "outputs": [],
   "source": [
    "from database_connections import connect_to_postgres\n",
    "\n",
    "def add_category_to_database (category_id, category_name):\n",
    "    connection ,cursor = connect_to_postgres(location = 'local')\n",
    "    insert_category_sql = \"\"\"\n",
    "    INSERT INTO category\n",
    "    (category_id, category_name) VALUES ({}, {});\n",
    "    \"\"\".format(category_id,category_name)\n",
    "    cursor.execute(insert_category_sql)\n",
    "    connection.commit()\n",
    "    connection.close()\n",
    "    \n",
    "def add_page_to_database (page_id, page_name, category_id, page_text, section_head_array=None):\n",
    "    connection ,cursor = connect_to_postgres(location = 'local')\n",
    "    if section_head_array==None:\n",
    "        section_head_array=[]\n",
    "        \n",
    "    insert_page_sql = \"\"\"\n",
    "    INSERT INTO page \n",
    "    (page_id, category_id, title, page, section_head) \n",
    "    VALUES ({}, {}, {}, {},{});\n",
    "    \"\"\".format(page_id, page_name, category_id, page_text, section_head_array=None)\n",
    "    cursor.execute(insert_category_sql)\n",
    "    connection.commit()\n",
    "    connection.close()\n",
    "    \n"
   ]
  },
  {
   "cell_type": "code",
   "execution_count": 8,
   "metadata": {
    "collapsed": false
   },
   "outputs": [],
   "source": [
    "import pandas as pd\n",
    "import sqlalchemy\n",
    "from database_connections import connect_to_postgres\n",
    "import unidecode\n",
    "import yaml\n",
    "import json\n",
    "from requests import get\n",
    "from urllib import quote\n",
    "import numpy as np\n",
    "from bs4 import BeautifulSoup"
   ]
  },
  {
   "cell_type": "code",
   "execution_count": 10,
   "metadata": {
    "collapsed": true
   },
   "outputs": [],
   "source": [
    "#Pipeline for custom wikipedia search.\n",
    "\n",
    "def create_query_param_string(params):\n",
    "    param_list = [key+'='+value for key, value in params.items()]\n",
    "    return '?'+'&'.join(param_list)\n",
    "def wikipedia_page_format(page):\n",
    "    return page.replace(' ','_')\n",
    "\n",
    "def parse_pages_from_json(response_json):\n",
    "    return response_json['query']['pages']\n",
    "\n",
    "def parse_headings_from_json(response_json):\n",
    "    return response_json['mobileview']['sections']\n",
    "\n",
    "def wikipedia_get_cagegory(category):\n",
    "    params = { 'action' : 'query',\n",
    "               'format' : 'json',\n",
    "               'prop' : 'extracts',\n",
    "               'exlimit' : 'maxl'\n",
    "             }\n",
    "    params['titles'] = 'Category:'+quote(category)\n",
    "    query_param_string = create_query_param_string(params)\n",
    "    response = get(base_url+query_param_string)\n",
    "    \n",
    "    try:\n",
    "        return parse_pages_from_json(response.json())\n",
    "    except:\n",
    "        return response\n",
    "\n",
    "def wikipedia_get_pages_for_category(category):\n",
    "    params = { 'action' : 'query',\n",
    "               'format' : 'json',\n",
    "               'list' : 'categorymembers',\n",
    "               'cmlimit' : 'max'\n",
    "             }\n",
    "    \n",
    "    params['cmtitle'] = 'Category:'+wikipedia_page_format(category)\n",
    "    query_param_string = create_query_param_string(params)\n",
    "    response = get(base_url+query_param_string)\n",
    "    \n",
    "    return response.json()['query']['categorymembers']\n",
    "    \n",
    "    try:\n",
    "        return parse_headings_from_json(response.json())\n",
    "    except:\n",
    "        return response\n",
    "    \n",
    "def wikipedia_get_page(title, category=False):\n",
    "    \"\"\" Get the text of a wikipedia page\"\"\"\n",
    "    \n",
    "    params = { 'action' : 'query',\n",
    "               'format' : 'json',\n",
    "               'prop' : 'extracts',\n",
    "               'exlimit' : 'maxl'\n",
    "             }\n",
    "    \n",
    "    if category:\n",
    "        title = \"Category:\"+title\n",
    "        \n",
    "    params['titles'] = wikipedia_page_format(title)\n",
    "    query_param_string = create_query_param_string(params)\n",
    "    response = get(base_url+query_param_string)\n",
    "    \n",
    "    return response.json()['query']['pages']\n",
    "\n",
    "base_url = \"https://en.wikipedia.org/w/api.php\""
   ]
  },
  {
   "cell_type": "code",
   "execution_count": null,
   "metadata": {
    "collapsed": true
   },
   "outputs": [],
   "source": [
    "category_dict = wikipedia_get_cagegory('sandwiches')"
   ]
  },
  {
   "cell_type": "code",
   "execution_count": null,
   "metadata": {
    "collapsed": false
   },
   "outputs": [],
   "source": [
    "category_number = int(unidecode.unidecode(category_dict.keys()[0]))"
   ]
  },
  {
   "cell_type": "code",
   "execution_count": null,
   "metadata": {
    "collapsed": false
   },
   "outputs": [],
   "source": [
    "category_number"
   ]
  },
  {
   "cell_type": "code",
   "execution_count": null,
   "metadata": {
    "collapsed": true
   },
   "outputs": [],
   "source": [
    "wikipedia_get_pages_for_category('sandwiches')"
   ]
  },
  {
   "cell_type": "code",
   "execution_count": null,
   "metadata": {
    "collapsed": false
   },
   "outputs": [],
   "source": [
    "temp = wikipeida.page('Hasan al-Kharrat')"
   ]
  },
  {
   "cell_type": "code",
   "execution_count": 15,
   "metadata": {
    "collapsed": true
   },
   "outputs": [],
   "source": [
    "def wikipedia_get_page_sections(title):\n",
    "    \"\"\" Get the section heads of a wikipedia page\"\"\"\n",
    "    \n",
    "    params = { 'action' : 'query',\n",
    "               'format' : 'json',\n",
    "               'prop' : 'extracts',\n",
    "               'exlimit' : 'maxl'\n",
    "             }\n",
    "        \n",
    "    params['titles'] = wikipedia_page_format(title)\n",
    "    query_param_string = create_query_param_string(params)\n",
    "    response = get(base_url+query_param_string)\n",
    "    \n",
    "    return response.json()['query']['pages']"
   ]
  },
  {
   "cell_type": "code",
   "execution_count": 16,
   "metadata": {
    "collapsed": false
   },
   "outputs": [
    {
     "data": {
      "text/plain": [
       "{u'39024575': {u'extract': u'<p><b>Abu Muhammad Hasan al-Kharrat</b> (Arabic: <span lang=\"ar\" dir=\"rtl\" xml:lang=\"ar\">\\u062d\\u0633\\u0646 \\u0627\\u0644\\u062e\\u0631\\u0627\\u0637</span>\\u200e\\u200e <i>\\u1e24assan al-Kharr\\u0101\\u1e6d</i>; 1861\\u201325 December 1925) was one of the principal Syrian rebel commanders of the Great Syrian Revolt against the French Mandate. His main area of operations was in Damascus and its Ghouta countryside. He was killed in the struggle and is considered a hero by Syrians.</p>\\n<p>As the <i>qabaday</i> (local youth boss) of the al-Shaghour quarter of Damascus, al-Kharrat was connected with Nasib al-Bakri, a nationalist from the quarter\\'s most influential family. At al-Bakri\\'s invitation, al-Kharrat joined the revolt in August 1925 and formed a group of fighters from al-Shaghour and other neighborhoods in the vicinity. He led the rebel assault against Damascus, briefly capturing the residence of French High-Commissioner Maurice Sarrail before withdrawing amid heavy French bombardment.</p>\\n<p>Towards the end of 1925, relations grew tense between al-Kharrat and other rebel leaders, particularly Sa\\'id al-\\'As and Ramadan al-Shallash, as they traded accusations of plundering villages or extorting local inhabitants. Al-Kharrat continued to lead operations in the Ghouta, where he was ultimately killed in a French ambush. The revolt dissipated by 1927, but he gained a lasting reputation as a martyr of the Syrian resistance to French rule.</p>\\n<p></p>\\n<h2><span id=\"Early_life_and_career\">Early life and career</span></h2>\\n\\n<p>Al-Kharrat was born to a Sunni Muslim family in Damascus in 1861, during Ottoman rule in Syria. He served as the night watchman of the city\\'s al-Shaghour quarter and as a guard for the neighborhood\\'s orchards. Damascus was captured by Arab rebels in October 1918. Afterward, the Arab Club, an Arab nationalist organization, emerged in the city to raise support for the rebels. The club assisted the rebels\\' leader, Emir Faisal, who formed a rudimentary government. Al-Kharrat became an affiliate of the Arab Club and raised support for Faisal in al-Shaghour. In July 1920, Faisal\\'s government collapsed after its motley forces were defeated by the French at the Battle of Maysalun. Afterward, the French ruled Syria under the aegis of their League of Nations mandate.</p>\\n<p>In the early years of French rule, al-Kharrat was al-Shaghour\\'s <i>qabaday</i> (pl. <i>qabadayat</i>), the traditional leader of a neighborhood\\'s local toughs. The <i>qabaday</i> was informally charged with redressing grievances and defending a neighborhood\\'s honor against local criminals or the encroachments of <i>qabadayat</i> from other neighborhoods. He was popularly characterized as an honorable man, noted for his personal strength, and protection of minorities and the poor. The <i>qabaday</i> was considered an \"upholder of Arab traditions and customs, the guardian of popular culture\", according to historian Philip S. Khoury. Khoury asserts that al-Kharrat was \"probably the most respected and esteemed <i>qabaday</i> of his day\". <i>Qabadayat</i> normally shunned formal education, and historian Michael Provence maintains that al-Kharrat was likely illiterate. <i>Qabadayat</i> were normally linked with particular city notables and could secure them political support in their neighborhoods. Al-Kharrat was allied with Nasib al-Bakri, a Damascene politician and landowner. The al-Bakri family was the most influential in al-Shaghour, and al-Kharrat served as the family\\'s principal connection and enforcer in the quarter.</p>\\n<h2><span id=\"Commander_in_the_Great_Syrian_Revolt\">Commander in the Great Syrian Revolt</span></h2>\\n<h3><span id=\"Recruitment_and_early_confrontations\">Recruitment and early confrontations</span></h3>\\n<p>A revolt against French rule was launched in mid-1925 by the Druze sheikh (chieftain), Sultan Pasha al-Atrash, in the southern mountains of Jabal al-Druze. As al-Atrash\\'s men scored decisive victories against the French Army of the Levant, Syrian nationalists were inspired and the revolt spread northward to the countryside of Damascus and beyond. Al-Bakri was the chief liaison between al-Atrash and the emerging rebel movement in Damascus and the Ghouta. The Ghouta is the fertile plain surrounding Damascus, and its orchard groves and extensive waterways provided cover for the rebels and a base from which they could raid Damascus. In August, al-Bakri convinced al-Kharrat to join the uprising. According to Provence, al-Kharrat was \"ideal\" for the job, possessing \"a local following of young men, notoriety outside the quarter, good connections and a reputation for toughness\". The group of fighters he commanded was known as <i>\\u2032isabat al-Shawaghirah</i> (the band of al-Shaghour). Though named after al-Kharrat\\'s quarter, the band included twenty <i>qabadayat</i> and their armed retinues from other Damascus neighborhoods and nearby villages. His main areas of operation were in the vicinity of al-Shaghour and the al-Zur forest in the eastern Ghouta. Through his alliance with a Sufi religious leader, al-Kharrat brought an Islamic holy war dimension to the largely secular revolt, something that was not welcomed by some involved.</p>\\n\\n<p>Al-Kharrat commenced guerrilla operations in September, targeting French forces posted in the eastern and southern Ghouta. His prominence rose as he led nighttime raids against the French in Damascus, during which he disarmed army patrols and took soldiers hostage. In al-Shaghour, Souk Saruja and Jazmatiyya, al-Kharrat and his band burnt down all French-held buildings. In the first week of October, sixty French gendarmes were dispatched to the Ghouta to apprehend al-Kharrat and his fighters. The gendarmes were quartered in the home of al-Malihah\\'s <i>mukhtar</i> (village headman). In the evening, the rebels attacked the residence, killing one gendarme and capturing the rest; the prisoners were eventually all returned unharmed.</p>\\n<p>On 12 October, French troops backed by tanks, artillery and aerial support launched an operation to surround and eliminate al-Kharrat\\'s rebels in the al-Zur forest. Al-Kharrat\\'s men were forewarned of the French deployment by the peasants of al-Malihah. Positioned among the trees, the rebels used sniper fire against the French troops. The latter were unable to lure the rebels out and retreated.</p>\\n<p>As the French withdrew toward al-Malihah, they looted the village and set it on fire. French intelligence officials justified the collective punishment of al-Malihah as retaliation for the rebels\\' capture and humiliation of the gendarmes during the previous week; the French claimed a young boy from al-Malihah had notified al-Kharrat\\'s men of the French presence in the village. Though they were unable to engage al-Kharrat and his forces directly, French troops executed around 100 civilians from Ghouta villages. Their corpses were brought to Damascus, and the bodies of sixteen men described by the French as \"brigands\" were put on display.</p>\\n<h3><span id=\"Battle_of_Damascus_and_operations_in_Ghouta\">Battle of Damascus and operations in Ghouta</span></h3>\\n\\n<p>Spurred by French army actions in the Ghouta, al-Bakri planned to capture the Citadel of Damascus, where French forces were concentrated, and the Azm Palace, where General Maurice Sarrail, the French high commissioner of Syria, would be residing on 17\\u201318 October (Sarrail was typically headquartered in Beirut). The high commissioner functioned as the overall administrator of Syria on behalf of France and exercised practically absolute power. The rebel units active in Damascus at the time were al-Kharrat\\'s <i>\\u2032isabat</i> and a mixed force of Druze fighters and rebels from the al-Midan quarter and the Ghouta. To compensate for the lack of rebel strength, al-Bakri sent a letter to Sultan al-Atrash requesting reinforcements. Al-Atrash replied that he was currently occupied with operations in the Hauran, but would dispatch his entire force to back the Damascus rebels as soon as affairs there were settled. Before he received al-Atrash\\'s reply, al-Bakri decided to move ahead with the operation.</p>\\n<p>On 18 October, al-Kharrat led forty rebels into al-Shaghour from the old cemeteries adjacent to the southern gate of Damascus, announcing that the Druze had arrived to relieve the city from French occupation. Crowds of residents enthusiastically welcomed the rebels and many took up arms alongside them. Al-Kharrat\\'s men captured the quarter\\'s police station, disarming its garrison. They were joined by Ramadan al-Shallash, a rebel commander from Deir ez-Zor, and twenty of his Bedouin fighters. The joint forces proceeded to the Hamidiyya Market and captured the Azm Palace, but Sarrail was not present, having already left to attend a meeting in the Hauran town of Daraa. The rebels plundered the palace and set it on fire. Provence asserts that capturing the palace without Sarrail \"held no tactical importance\" but was a highly symbolic achievement for the rebels because of the Azm Palace\\'s \"importance as the historical seat of economic and political power in Damascus, now usurped by the French and totally undefended\".</p>\\n<p>While al-Kharrat captured the Azm Palace, al-Bakri and 200 rebels under his command rode through the city and were joined by civilians in increasing numbers. After sealing the Old City to prevent the entry of enemy reinforcements, al-Kharrat issued an order to kill anyone linked to the French army. About 180 French soldiers were killed. Sarrail ordered the shelling and aerial bombardment of the city, which lasted two days and killed about 1,500 people. Chaos and scattered fighting ensued as whole neighborhoods, mosques and churches were leveled, French forces moved in, and hundreds of leading figures in the Syrian national movement were arrested, including al-Kharrat\\'s son Fakhri. The latter was captured on 22 October during a botched nighttime raid by the rebels against the French, who had by then retaken Damascus. Al-Kharrat was offered the release of his son in exchange for his own surrender, but refused.</p>\\n<p>The rebels withdrew from Damascus as a meeting was held between French army commander Maurice Gamelin and a delegation of Damascene notables. As a result of the meeting, the French agreed to end their bombardment in return for a payment of 100,000 Turkish gold liras by 24 October. The fine was not paid by the French deadline, but the bombardment was not renewed, likely as a result of orders from the French government in Paris. International condemnation of Sarrail\\'s bombardment of Damascus and growing criticism in France of his mishandling of the revolt led to his dismissal on 30 October. He was replaced by politician Henry de Jouvenel, who arrived in Syria in December. On 22 November, al-Kharrat commanded 700 rebels in a battle with about 500 French soldiers outside of Damascus. Al-Kharrat\\'s men inflicted \"trifling\" losses on the French, but experienced heavy casualties themselves, with thirty dead and forty wounded according to <i>Reuters</i>. On 5 December, al-Kharrat was one of the commanders of a 2,000-strong force uniting rebels from disparate backgrounds, which assaulted the French Army barracks in al-Qadam, south of Damascus. The French claimed to have inflicted significant casualties, but rebel activity continued.</p>\\n<h3><span id=\"Tensions_with_rebel_leaders\">Tensions with rebel leaders</span></h3>\\n<p>Centralized order and oversight among the revolt\\'s armed participants was difficult to establish because of the diversity and independence of the rebel factions. A meeting of rebel leaders was held in the Ghouta village of Saqba on 26 November. Sa\\'id al-\\'As accused al-Kharrat and others of plundering in the Ghouta, while al-Kharrat alleged that al-Shallash extorted the residents of al-Midan and the Ghouta town of Douma. The meeting concluded with an agreement to elect a government to replace the French authorities, increase recruitment of the Ghouta\\'s inhabitants, coordinate military operations under a central command, and establish a revolutionary court to execute spies. The meeting also designated the area between the village of Zabdin and north of the Douma-Damascus road as being part of al-Kharrat\\'s zone of operations. Despite his leading role in the rebels\\' military efforts, al-Kharrat was not included in the newly formed rebel leadership council, nor were any of al-Bakri\\'s allies. Instead, al-\\'As served as the rebels\\' overall head.</p>\\n<p>Sharp divisions among rebel factions became apparent during a second meeting in Saqba on 5 December. According to Syrian journalist Munir al-Rayyes, hostility between al-Kharrat and al-Shallash was well-known among the rebels. Because al-Shallash had levied war taxes on the major landlords and city elites of the Ghouta, al-Kharrat\\'s benefactor al-Bakri viewed him as a threat to the traditional landowning class to which al-Bakri belonged. Al-Rayyis claimed the meeting was called for by al-Kharrat, who ordered his fighters to capture and bring al-Shallash to Saqba. However, according to al-\\'As, the summit was called by al-Shallash, and once the latter arrived in the village, al-Kharrat personally detained him and confiscated his horse, weapons and money.</p>\\n<p>After his detention, al-Shallash was given a brief trial during which al-Kharrat accused him of making \"impositions and ransoms and financial collections in the name of the revolt\", while al-Bakri condemned him specifically for extorting the residents of Douma for 1,000 <i>giney</i> (Ottoman pounds), and imposing large fines on the inhabitants of Harran al-Awamid, al-Qisa and Maydaa for his own personal enrichment. Al-Kharrat and al-Bakri decided al-Shallash\\'s verdict, and dismissed him from the revolt. While many rebels with officer backgrounds similar to al-Shallash disapproved of the judgement, they did not intervene. In his account of the meeting, al-Rayyis condemned the rebel commanders for complacency in the \"ridiculous trial\" and accused al-Kharrat of being motivated solely by personal animosity. Al-Shallash was able to escape\\u2014or was released by al-\\'As\\u2014when French planes bombed the meeting. Al-Shallash would later surrender to Jouvenel and collaborate with French authorities.</p>\\n<h2><span id=\"Death_and_legacy\">Death and legacy</span></h2>\\n\\n<p>Al-Kharrat was killed in an ambush by French troops in the Ghouta on 25 December 1925. He was succeeded as <i>qabaday</i> of al-Shaghour and commander of the <i>\\u2032isabat al-Shawaghirah</i> by Mahmud Khaddam al-Srija. Al-Kharrat\\'s men continued to fight the French until the revolt ended in 1927, though historian Thomas Philipp states that al-Kharrat\\'s group dissipated after his death. In January 1926, al-Kharrat\\'s son Fakhri was sentenced to death and publicly executed with two other rebels in Marjeh Square, Damascus. The French had previously implored Fakhri to persuade his father to surrender in return for his release, but Fakhri refused.</p>\\n<p>Abd al-Rahman Shahbandar, a prominent Syrian nationalist leader, described al-Kharrat as having played \"the preeminent role\" in the battle against the French in the Ghouta and Damascus. Historian Daniel Neep wrote that al-Kharrat was the \"best-known\" of all of the Damascus-based rebel leaders, although other leaders of the rebel movement attributed the publicity and praise of al-Kharrat to the efforts of the Cairo-based Syrian-Palestinian Committee, with which al-Bakri was closely affiliated. Al-Kharrat and his son Fakhri are today considered \"martyred heroes\" by Syrians for their nationalist efforts and their deaths in the Syrian struggle for independence from France.</p>\\n<h2><span id=\"Notes\">Notes</span></h2>\\n\\n<h2><span id=\"References\">References</span></h2>\\n\\n<h2><span id=\"Bibliography\">Bibliography</span></h2>',\n",
       "  u'ns': 0,\n",
       "  u'pageid': 39024575,\n",
       "  u'title': u'Hasan al-Kharrat'}}"
      ]
     },
     "execution_count": 16,
     "metadata": {},
     "output_type": "execute_result"
    }
   ],
   "source": [
    "wikipedia_get_page_sections('Hasan al-Kharrat')"
   ]
  },
  {
   "cell_type": "code",
   "execution_count": null,
   "metadata": {
    "collapsed": true
   },
   "outputs": [],
   "source": []
  }
 ],
 "metadata": {
  "anaconda-cloud": {},
  "kernelspec": {
   "display_name": "Python [conda root]",
   "language": "python",
   "name": "conda-root-py"
  },
  "language_info": {
   "codemirror_mode": {
    "name": "ipython",
    "version": 2
   },
   "file_extension": ".py",
   "mimetype": "text/x-python",
   "name": "python",
   "nbconvert_exporter": "python",
   "pygments_lexer": "ipython2",
   "version": "2.7.12"
  }
 },
 "nbformat": 4,
 "nbformat_minor": 1
}
