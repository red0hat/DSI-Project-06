{
 "cells": [
  {
   "cell_type": "code",
   "execution_count": 1,
   "metadata": {
    "collapsed": false
   },
   "outputs": [],
   "source": [
    "import wiki_module\n",
    "import wiki_database_module \n",
    "import wikipedia\n",
    "from database_connections import connect_to_postgres"
   ]
  },
  {
   "cell_type": "code",
   "execution_count": 2,
   "metadata": {
    "collapsed": false
   },
   "outputs": [],
   "source": [
    "category_list = wiki_module.query_category('Sandwiches')\n"
   ]
  },
  {
   "cell_type": "code",
   "execution_count": 3,
   "metadata": {
    "collapsed": false
   },
   "outputs": [
    {
     "name": "stdout",
     "output_type": "stream",
     "text": [
      "Connected to server localhost.\n"
     ]
    }
   ],
   "source": [
    "wiki_database_module.create_or_update_category_in_database(\n",
    "        category_list[0],\n",
    "        category_list[1],\n",
    "        location='local')"
   ]
  },
  {
   "cell_type": "code",
   "execution_count": 4,
   "metadata": {
    "collapsed": false
   },
   "outputs": [
    {
     "data": {
      "text/plain": [
       "[(82425, 'Sandwich'),\n",
       " (33686134, 'List of sandwiches'),\n",
       " (49033306, 'Afghani burger'),\n",
       " (2546911, 'Al pastor'),\n",
       " (31439892, 'Bagel toast'),\n",
       " (26081358, 'Bake and Shark'),\n",
       " (3334477, 'Baked bean sandwich'),\n",
       " (857888, 'B?nh m?'),\n",
       " (38993657, 'Barbecue sandwich'),\n",
       " (13878469, 'Bauru (sandwich)'),\n",
       " (87542, 'BLT'),\n",
       " (24461606, 'Bocadillo'),\n",
       " (21068969, 'Bologna sandwich'),\n",
       " (796863, 'Bosna (sausage)'),\n",
       " (225765, 'Bratwurst'),\n",
       " (9089348, 'Breakfast sandwich'),\n",
       " (11079389, 'Bun kebab'),\n",
       " (3884262, 'Butterbrot'),\n",
       " (50648818, 'Carrozza (sandwich)'),\n",
       " (6757286, 'Cemita'),\n",
       " (46985084, 'Cheese and tomato sandwich'),\n",
       " (2316124, 'Cheese sandwich'),\n",
       " (4151690, 'Chicken salad'),\n",
       " (7411951, 'Chicken sandwich'),\n",
       " (3329237, 'Chivito (sandwich)'),\n",
       " (10943768, 'Chocolate sandwich'),\n",
       " (8350426, 'Chorip?n'),\n",
       " (358931, 'Club sandwich'),\n",
       " (19318626, 'Corned beef sandwich'),\n",
       " (21221263, 'Crisp sandwich'),\n",
       " (516772, 'Cuban sandwich'),\n",
       " (3340610, 'Cudighi'),\n",
       " (29154241, 'Dabeli'),\n",
       " (3377388, 'Deli Choices'),\n",
       " (877704, 'Doner kebab'),\n",
       " (30320804, 'Donkey Burger'),\n",
       " (2352115, 'Doubles (food)'),\n",
       " (41125200, 'Doughwich'),\n",
       " (21652301, 'Dyrl?gens natmad'),\n",
       " (3990873, 'Egg sandwich'),\n",
       " (30361857, 'Fischbr?tchen'),\n",
       " (34709570, 'Fish finger sandwich'),\n",
       " (42404816, 'Fish sandwich'),\n",
       " (34067929, 'Fl?skesteg'),\n",
       " (1992614, 'Francesinha'),\n",
       " (28190752, 'Francesinha poveira'),\n",
       " (3469823, 'Fried cauliflower'),\n",
       " (20426802, 'Gatsby (sandwich)'),\n",
       " (4315021, 'Grease trucks'),\n",
       " (44405596, 'Gua bao'),\n",
       " (30730148, 'Guajolota'),\n",
       " (341075, 'Gyro (food)'),\n",
       " (1882965, 'Ham and cheese sandwich'),\n",
       " (13957530, 'Ham and egg bun'),\n",
       " (14442731, 'Ham sandwich'),\n",
       " (550376, 'Horseshoe sandwich'),\n",
       " (21606753, 'Jam sandwich (food)'),\n",
       " (8574890, 'Jibarito'),\n",
       " (4772308, 'Kati roll'),\n",
       " (1659792, 'Kottenbutter'),\n",
       " (21234013, 'Lettuce sandwich'),\n",
       " (39447294, 'Limburger sandwich'),\n",
       " (528261, 'Lunch meat'),\n",
       " (39052181, 'Make me a sandwich'),\n",
       " (2447796, 'Maxwell Street Polish'),\n",
       " (18709546, 'Medianoche'),\n",
       " (1152108, 'Melt sandwich'),\n",
       " (14848897, 'Mitraillette'),\n",
       " (6036445, 'Mollete'),\n",
       " (30697684, 'Montreal-style smoked meat'),\n",
       " (18118466, 'Mortadella sandwich'),\n",
       " (2725088, 'Muisjes'),\n",
       " (48888284, 'Oblo?en? chleb??ky'),\n",
       " (446012, 'Open sandwich'),\n",
       " (6624272, 'Pambazo'),\n",
       " (7333748, 'Pebete'),\n",
       " (50622855, 'Pepito (sandwich)'),\n",
       " (43626458, 'Pistolet (bread)'),\n",
       " (22672541, 'Pistolette'),\n",
       " (561099, \"Po' boy\"),\n",
       " (8476180, 'Pocket sandwich'),\n",
       " (1952281, 'Porchetta'),\n",
       " (21256027, 'Porilainen'),\n",
       " (7545714, 'Pork chop bun'),\n",
       " (19738554, 'Prawn roll'),\n",
       " (35311411, 'Redonkadonk'),\n",
       " (9074556, 'Roujiamo'),\n",
       " (29396791, 'Salmon burger'),\n",
       " (26793821, 'Sandwich bread'),\n",
       " (50038844, 'S?ndwich de milanesa'),\n",
       " (10250527, 'Sandwich loaf'),\n",
       " (5174900, 'Sandwiches de miga'),\n",
       " (5281094, 'Sausage sandwich'),\n",
       " (453166, 'Shawarma'),\n",
       " (2563962, 'Sincronizada'),\n",
       " (27622613, 'Slider (sandwich)'),\n",
       " (40325328, 'Sloppy joe (New Jersey)'),\n",
       " (1093628, 'Smoked meat'),\n",
       " (1945997, 'Sm?rrebr?d'),\n",
       " (17766343, 'Sol over Gudhjem'),\n",
       " (52670334, 'Soup and sandwich'),\n",
       " (50653758, 'Spaghetti sandwich'),\n",
       " (43080748, 'Spatlo'),\n",
       " (44064750, 'Steak burger'),\n",
       " (15553662, 'Steak sandwich'),\n",
       " (5352402, 'Strammer Max'),\n",
       " (26918, 'Submarine sandwich'),\n",
       " (29985, 'Taco'),\n",
       " (1358339, 'Toast Hawaii'),\n",
       " (33796524, 'Toast sandwich'),\n",
       " (46950307, 'Tomato sandwich'),\n",
       " (26284358, 'Tongue toast'),\n",
       " (54889, 'Tonkatsu'),\n",
       " (2108349, 'Torta'),\n",
       " (12297788, 'Torta ahogada'),\n",
       " (13846812, 'Tuna fish sandwich'),\n",
       " (867756, 'Vada pav'),\n",
       " (426918, 'Vegetable sandwich'),\n",
       " (2223187, 'Wrap (food)'),\n",
       " (21228105, 'Wrap roti'),\n",
       " (25653706, 'Wurstbrot'),\n",
       " (7803365, 'Zapiekanka')]"
      ]
     },
     "execution_count": 4,
     "metadata": {},
     "output_type": "execute_result"
    }
   ],
   "source": [
    "category_list[2]"
   ]
  },
  {
   "cell_type": "code",
   "execution_count": 5,
   "metadata": {
    "collapsed": false
   },
   "outputs": [
    {
     "name": "stdout",
     "output_type": "stream",
     "text": [
      "(82425, 'Sandwich')\n",
      "Adding Sandwich, id=82425\n",
      "Connected to server localhost.\n",
      "(33686134, 'List of sandwiches')\n",
      "Adding List of sandwiches, id=33686134\n",
      "Connected to server localhost.\n",
      "(49033306, 'Afghani burger')\n",
      "Adding Afghani burger, id=49033306\n",
      "Connected to server localhost.\n",
      "(2546911, 'Al pastor')\n",
      "Adding Al pastor, id=2546911\n",
      "Connected to server localhost.\n",
      "(31439892, 'Bagel toast')\n",
      "Adding Bagel toast, id=31439892\n",
      "Connected to server localhost.\n",
      "(26081358, 'Bake and Shark')\n",
      "Adding Bake and Shark, id=26081358\n",
      "Connected to server localhost.\n",
      "(3334477, 'Baked bean sandwich')\n",
      "Adding Baked bean sandwich, id=3334477\n",
      "Connected to server localhost.\n",
      "(857888, 'B?nh m?')\n",
      "Adding B?nh m?, id=857888\n",
      "Connected to server localhost.\n"
     ]
    }
   ],
   "source": [
    "for i in category_list[2][:8]:\n",
    "    print i\n",
    "    \n",
    "    title = i[1]\n",
    "    if 'Category:' in title:\n",
    "        continue\n",
    "    page_id = i[0]\n",
    "    title = title.replace(\"'\",\"\")\n",
    "    html = wikipedia.page(pageid=page_id).content\n",
    "    html = html.replace(\"'\",\"\")\n",
    "    print u\"Adding {}, id={}\".format(title, page_id)\n",
    "    wiki_database_module.create_or_update_page_in_database(page_id, category_list[0], title, html,location = 'local')\n",
    "\n",
    "\n"
   ]
  },
  {
   "cell_type": "code",
   "execution_count": 6,
   "metadata": {
    "collapsed": false
   },
   "outputs": [
    {
     "name": "stdout",
     "output_type": "stream",
     "text": [
      "Connected to server localhost.\n"
     ]
    }
   ],
   "source": [
    "page_ids =(49033306, 13846812, 54889)\n",
    "connection, cursor = connect_to_postgres('local')\n",
    "\n",
    "select_pages = u\"\"\"\n",
    "    SELECT page_id, title, page\n",
    "    FROM page\n",
    "    WHERE page_id IN {};\n",
    "    \"\"\".format(page_ids)\n",
    "\n",
    "cursor.execute(select_pages)\n",
    "returned_pages = cursor.fetchall()\n",
    "connection.commit()\n",
    "\n",
    "cursor.close()\n",
    "connection.close()\n"
   ]
  },
  {
   "cell_type": "code",
   "execution_count": null,
   "metadata": {
    "collapsed": false
   },
   "outputs": [],
   "source": []
  },
  {
   "cell_type": "code",
   "execution_count": 7,
   "metadata": {
    "collapsed": true
   },
   "outputs": [],
   "source": [
    "page_ids =[49033306, 13846812, 54889]"
   ]
  },
  {
   "cell_type": "code",
   "execution_count": 8,
   "metadata": {
    "collapsed": false
   },
   "outputs": [
    {
     "data": {
      "text/plain": [
       "(49033306, 13846812, 54889)"
      ]
     },
     "execution_count": 8,
     "metadata": {},
     "output_type": "execute_result"
    }
   ],
   "source": [
    "tuple(page_ids)"
   ]
  },
  {
   "cell_type": "code",
   "execution_count": 9,
   "metadata": {
    "collapsed": false
   },
   "outputs": [
    {
     "name": "stdout",
     "output_type": "stream",
     "text": [
      "Connected to server localhost.\n",
      "[('Sandwiches',), ('test',)]\n",
      "\n",
      "    SELECT page_id, title, page\n",
      "    FROM page\n",
      "    WHERE page_id IN (49033306, 13846812, 54889);\n",
      "    \n"
     ]
    }
   ],
   "source": [
    "page_id =(49033306)\n",
    "\n",
    "connection, cursor = connect_to_postgres('local')\n",
    "\n",
    "select_category = u\"\"\"\n",
    "    SELECT category.category_name\n",
    "    FROM category\n",
    "    join page_cate\n",
    "    on page_cate.category_id = category.category_id\n",
    "    WHERE page_cate.page_id = {};\n",
    "    \"\"\".format(page_id)\n",
    "\n",
    "cursor.execute(select_category)\n",
    "returned_cate = cursor.fetchall()\n",
    "connection.commit()\n",
    "\n",
    "cursor.close()\n",
    "connection.close()\n",
    "print returned_cate\n",
    "print select_pages"
   ]
  },
  {
   "cell_type": "code",
   "execution_count": 10,
   "metadata": {
    "collapsed": false
   },
   "outputs": [],
   "source": [
    "import wiki_database_module"
   ]
  },
  {
   "cell_type": "code",
   "execution_count": 11,
   "metadata": {
    "collapsed": false
   },
   "outputs": [
    {
     "name": "stdout",
     "output_type": "stream",
     "text": [
      "Connected to server joshuacook.me.\n"
     ]
    },
    {
     "data": {
      "text/plain": [
       "[('Sandwiches',)]"
      ]
     },
     "execution_count": 11,
     "metadata": {},
     "output_type": "execute_result"
    }
   ],
   "source": [
    "wiki_database_module.select_categies_for_page(13846812)"
   ]
  },
  {
   "cell_type": "code",
   "execution_count": null,
   "metadata": {
    "collapsed": true
   },
   "outputs": [],
   "source": []
  }
 ],
 "metadata": {
  "anaconda-cloud": {},
  "kernelspec": {
   "display_name": "Python [default]",
   "language": "python",
   "name": "python2"
  },
  "language_info": {
   "codemirror_mode": {
    "name": "ipython",
    "version": 2
   },
   "file_extension": ".py",
   "mimetype": "text/x-python",
   "name": "python",
   "nbconvert_exporter": "python",
   "pygments_lexer": "ipython2",
   "version": "2.7.12"
  }
 },
 "nbformat": 4,
 "nbformat_minor": 1
}
