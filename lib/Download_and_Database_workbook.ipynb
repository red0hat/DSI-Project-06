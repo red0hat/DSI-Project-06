{
 "cells": [
  {
   "cell_type": "code",
   "execution_count": 1,
   "metadata": {
    "collapsed": false
   },
   "outputs": [],
   "source": [
    "from requests import get\n",
    "from urllib import quote\n",
    "import pandas as pd\n",
    "from bs4 import BeautifulSoup\n",
    "from database_connections import connect_to_postgres\n",
    "import unidecode\n",
    "import wikipedia\n",
    "import database_module"
   ]
  },
  {
   "cell_type": "code",
   "execution_count": 2,
   "metadata": {
    "collapsed": true
   },
   "outputs": [],
   "source": [
    "def create_query_param_string(params):\n",
    "    param_list = [key+'='+str(value) for key, value in params.items()]\n",
    "    return '?'+'&'.join(param_list)\n",
    "\n",
    "def parse_pages_from_json(response_json):\n",
    "    return response_json['query']['pages']\n",
    "\n",
    "def parse_headings_from_json(response_json):\n",
    "    return response_json['mobileview']['sections']\n",
    "\n",
    "#ADDED\n",
    "def parse_category_pages_from_json(response_json):\n",
    "    return response.json()['query']['categorymembers']\n",
    "\n",
    "def wikipedia_page_format(page):\n",
    "    return page.lower().capitalize().replace(' ','_')\n",
    "\n",
    "base_url = \"https://en.wikipedia.org/w/api.php\"\n",
    "\n",
    "def wikipedia_get(title, category=False):\n",
    "    \"\"\"this function returns the text of a wikipedia page\"\"\"\n",
    "    params = { 'action' : 'query',\n",
    "               'format' : 'json',\n",
    "               'prop' : 'extracts',\n",
    "               'exlimit' : 'maxl'\n",
    "             }\n",
    "    \n",
    "    if category:\n",
    "        title = \"Category:\"+title\n",
    "        \n",
    "    params['titles'] = wikipedia_page_format(title)\n",
    "    query_param_string = create_query_param_string(params)\n",
    "    response = get(base_url+query_param_string)\n",
    "    return response.json()['query']['pages']\n",
    "\n",
    "def wikipedia_get_category(category):\n",
    "    params = { 'action' : 'query',\n",
    "               'format' : 'json',\n",
    "               'prop' : 'extracts',\n",
    "               'exlimit' : 'maxl'\n",
    "             }\n",
    "    \n",
    "    params['titles'] = 'Category:'+quote(category)\n",
    "    query_param_string = create_query_param_string(params)\n",
    "    response = get(base_url+query_param_string)\n",
    "    try:\n",
    "        return parse_pages_from_json(response.json())\n",
    "    except:\n",
    "        return response\n",
    "    \n",
    "def wikipedia_get_pages_for_category(category):\n",
    "    params = { 'action' : 'query',\n",
    "               'format' : 'json',\n",
    "               'list' : 'categorymembers',\n",
    "               'cmlimit' : 'max'\n",
    "             }\n",
    "    \n",
    "    params['cmtitle'] = 'Category:'+wikipedia_page_format(category)\n",
    "    query_param_string = create_query_param_string(params)\n",
    "    response = get(base_url+query_param_string)\n",
    "    return response.json()['query']['categorymembers']\n",
    "\n",
    "# def wikipedia_get_page_headings(title):\n",
    "#     params = { 'action' : 'mobileview',\n",
    "#                'format' : 'json',\n",
    "#                'prop' : 'sections',\n",
    "#                'sections' : 'all'\n",
    "#              }\n",
    "    \n",
    "#     params['page'] = quote(title)\n",
    "#     query_param_string = create_query_param_string(params)\n",
    "#     response = get(base_url+query_param_string)\n",
    "#     try:\n",
    "#         return response.json() #parse_headings_from_json(response.json())\n",
    "#     except:\n",
    "#         return response\n",
    "\n",
    "# https://en.wikipedia.org/w\n",
    "#     /api.php?\n",
    "#     action=parse&format=json&pageid={}&prop=text%7Csections&contentmodel=wikitext\n",
    "\n",
    "def wikipedia_get_sections_by_id(pageid):\n",
    "    \"\"\"this function returns the text of a wikipedia page\"\"\"\n",
    "    params = { 'action' : 'parse',\n",
    "               'format' : 'json',\n",
    "               'prop' : 'sections'\n",
    "             }\n",
    "        \n",
    "    params['pageid'] = pageid\n",
    "    query_param_string = create_query_param_string(params)\n",
    "    response = get(base_url+query_param_string)\n",
    "    return response.json()#['query']['pages']"
   ]
  },
  {
   "cell_type": "code",
   "execution_count": 3,
   "metadata": {
    "collapsed": false
   },
   "outputs": [
    {
     "data": {
      "text/plain": [
       "{u'757471': {u'extract': u'',\n",
       "  u'ns': 14,\n",
       "  u'pageid': 757471,\n",
       "  u'title': u'Category:Sandwiches'}}"
      ]
     },
     "execution_count": 3,
     "metadata": {},
     "output_type": "execute_result"
    }
   ],
   "source": [
    "category = 'Sandwiches'\n",
    "category_dict = wikipedia_get_category(category)\n",
    "category_dict"
   ]
  },
  {
   "cell_type": "code",
   "execution_count": 4,
   "metadata": {
    "collapsed": false
   },
   "outputs": [
    {
     "name": "stdout",
     "output_type": "stream",
     "text": [
      "Connected to server localhost.\n"
     ]
    },
    {
     "data": {
      "text/plain": [
       "'OK'"
      ]
     },
     "execution_count": 4,
     "metadata": {},
     "output_type": "execute_result"
    }
   ],
   "source": [
    "category_number = int(unidecode.unidecode(category_dict.keys()[0]))\n",
    "\n",
    "database_module.create_or_update_category_in_database(category_number,category,'local')"
   ]
  },
  {
   "cell_type": "code",
   "execution_count": 5,
   "metadata": {
    "collapsed": false
   },
   "outputs": [
    {
     "data": {
      "text/plain": [
       "[{u'ns': 0, u'pageid': 82425, u'title': u'Sandwich'},\n",
       " {u'ns': 0, u'pageid': 33686134, u'title': u'List of sandwiches'},\n",
       " {u'ns': 0, u'pageid': 49033306, u'title': u'Afghani burger'},\n",
       " {u'ns': 0, u'pageid': 2546911, u'title': u'Al pastor'},\n",
       " {u'ns': 0, u'pageid': 31439892, u'title': u'Bagel toast'},\n",
       " {u'ns': 0, u'pageid': 26081358, u'title': u'Bake and Shark'},\n",
       " {u'ns': 0, u'pageid': 3334477, u'title': u'Baked bean sandwich'},\n",
       " {u'ns': 0, u'pageid': 857888, u'title': u'B\\xe1nh m\\xec'}]"
      ]
     },
     "execution_count": 5,
     "metadata": {},
     "output_type": "execute_result"
    }
   ],
   "source": [
    "pages_list = wikipedia_get_pages_for_category('Sandwiches')\n",
    "pages_list[:8]"
   ]
  },
  {
   "cell_type": "code",
   "execution_count": 6,
   "metadata": {
    "collapsed": false
   },
   "outputs": [
    {
     "data": {
      "text/plain": [
       "757471"
      ]
     },
     "execution_count": 6,
     "metadata": {},
     "output_type": "execute_result"
    }
   ],
   "source": [
    "category_number = int(unidecode.unidecode(category_dict.keys()[0]))\n",
    "category_number"
   ]
  },
  {
   "cell_type": "code",
   "execution_count": 7,
   "metadata": {
    "collapsed": false
   },
   "outputs": [
    {
     "name": "stdout",
     "output_type": "stream",
     "text": [
      "Adding Sandwich, id=82425\n",
      "Connected to server joshuacook.me.\n",
      "Adding List of sandwiches, id=33686134\n",
      "Connected to server joshuacook.me.\n",
      "Adding Afghani burger, id=49033306\n",
      "Connected to server joshuacook.me.\n",
      "Adding Al pastor, id=2546911\n",
      "Connected to server joshuacook.me.\n",
      "Adding Bagel toast, id=31439892\n",
      "Connected to server joshuacook.me.\n",
      "Adding Bake and Shark, id=26081358\n",
      "Connected to server joshuacook.me.\n",
      "Adding Baked bean sandwich, id=3334477\n",
      "Connected to server joshuacook.me.\n",
      "Adding Bánh mì, id=857888\n",
      "Connected to server joshuacook.me.\n"
     ]
    }
   ],
   "source": [
    "\n",
    "category_number = int(unidecode.unidecode(category_dict.keys()[0]))\n",
    "\n",
    "for i in pages_list[:8]:\n",
    "#    print i\n",
    "    title = i[u'title']\n",
    "#    print title\n",
    "    if 'Category:' in title:\n",
    "         continue\n",
    "    page_id = i[u'pageid']\n",
    "#   print page_id\n",
    "    title = title.replace(\"'\",\"\")\n",
    "    html = wikipedia.page(pageid=page_id).content\n",
    "    html = html.replace(\"'\",\"\")\n",
    "#    print html\n",
    "    print u\"Adding {}, id={}\".format(title, page_id)\n",
    "    database_module.create_or_update_page_in_database(page_id, category_number, title, html, 'remote')\n",
    "   "
   ]
  },
  {
   "cell_type": "code",
   "execution_count": 8,
   "metadata": {
    "collapsed": true
   },
   "outputs": [],
   "source": [
    "page_ids = [857888,3334477,26081358,49033306]"
   ]
  },
  {
   "cell_type": "code",
   "execution_count": 9,
   "metadata": {
    "collapsed": false
   },
   "outputs": [
    {
     "name": "stdout",
     "output_type": "stream",
     "text": [
      "Connected to server joshuacook.me.\n"
     ]
    },
    {
     "data": {
      "text/plain": [
       "[(49033306,\n",
       "  'Afghani burger',\n",
       "  'An Afghani burger (also known as the Kabuli burger) is a fast food wrap consisting of a piece of Afghan bread rolled around french fries, along with chutney and other condiments, vegetables, and often sausages or other meat. It borrows influences from Afghan cuisine and was popularized inside Pakistan by Afghan immigrants (especially in Islamabad and Peshawar). It is also found in Delhi, India.\\n\\n\\n== See also ==\\nWrap (sandwich)\\nShawarma\\nGyro (food)\\n\\n\\n== Notes =='),\n",
       " (26081358,\n",
       "  'Bake and Shark',\n",
       "  'Bake and Shark is a traditional fast food dish of Trinidadian cuisine.\\n\\n\\n== Preparation ==\\nBake and Shark is a classic street food dish that is sold at a multitude of food stalls and cookshops all over Trinidad and Tobago. It consists of a fried flatbread (\"bake\") filled with fried pieces of shark meat and various other ingredients and sauces. Before frying, the shark meat is either seasoned with a herb blend and breaded, or marinated in a mix of lemon juice, onion, garlic, thyme and capsicum chinense. Popular additional ingredients are lettuce, coleslaw, tomatoes and/or pineapple; liquid condiments commonly used are mustard, ketchup, garlic sauce, chili sauce and/or a sauce made from culantro. In Trinidad, bake and shark is widely associated with Maracas beach on the Northern coast as it features a multitude of bake and shark stands, and the needed shark is caught in the offshore surf.\\n\\n\\n== Environmental problems ==\\nAs apex predators, sharks are of high importance for the ocean as an eco system. Through overfishing, many shark species are endangered. Apart from ethical problems this also causes economical problems as the demand for shark meat in Trinidad cannot be covered any more. Often catfish and ray are used as substitutes and are declared incorrectly. In return, bake and shark stalls sometimes advertise for using shark meat instead of cheaper alternatives.\\n\\n\\n== References ==\\n\\n\\n== External links ==\\nBake and shark receipe on Caribbeanpot.com\\nVideo by the Culinary Institute of America'),\n",
       " (857888,\n",
       "  'B\\xc3\\xa1nh m\\xc3\\xac',\n",
       "  'B\\xc3\\xa1nh m\\xc3\\xac (/\\xcb\\x88b\\xc3\\xa6n \\xcb\\x8cmi\\xcb\\x90/; Vietnamese pronunciation: [\\xc9\\x93\\xc7\\x8e\\xc9\\xb2 m\\xc3\\xae]) is a Vietnamese term for all kinds of bread. The word is derived from b\\xc3\\xa1nh (bread) and m\\xc3\\xac (wheat, also spelled m\\xe1\\xbb\\xb3 in northern Vietnam). Bread, or more specifically the baguette, was introduced by the French during its colonial period. The bread most commonly found in Vietnam is a single-serving baguette, which is usually more airy than its Western counterpart, with a thinner crust.\\nThe term b\\xc3\\xa1nh m\\xc3\\xac is also sometimes used as a synecdoche for a \"Vietnamese sandwich\".\\n\\n\\n== History ==\\n\\nIn the Western Hemisphere, especially in areas with substantial Vietnamese expatriate communities, the term is used to refer to a type of meat-filled sandwich on b\\xc3\\xa1nh m\\xc3\\xac bread, found in Vietnamese bakeries. Unlike the traditional French baguette, the Vietnamese baguette is made with rice flour along with wheat flour. Typical fillings include steamed, pan-roasted or oven-roasted seasoned pork belly, Vietnamese sausage, grilled pork, grilled pork patties, spreadable pork liver p\\xc3\\xa2t\\xc3\\xa9, pork floss, grilled chicken, chicken floss, canned sardines in tomato sauce, soft pork meatballs in tomato sauce, head cheese, fried eggs, mock duck, and tofu. Accompanying vegetables typically include fresh cucumber slices, cilantro (leaves of the coriander plant) and pickled carrots and white radishes in shredded form. Common condiments include spicy chili sauce, sliced chilis, mayonnaise, and cheese.\\n\\nIn the Vietnamese language, these sandwiches would be referred to as e.g. b\\xc3\\xa1nh m\\xc3\\xac x\\xc3\\xadu m\\xe1\\xba\\xa1i for a baguette with crushed pork meatball, b\\xc3\\xa1nh m\\xc3\\xac p\\xc3\\xa2t\\xc3\\xa9 ch\\xe1\\xba\\xa3 th\\xe1\\xbb\\x8bt for a baguette or sandwich with p\\xc3\\xa2t\\xc3\\xa9, Vietnamese sausage and meat, usually pork bellies, since it is the most common kind of meat. Almost all of these varieties are innovations made by or introduced in Saigon and they are known as b\\xc3\\xa1nh m\\xc3\\xac S\\xc3\\xa0i G\\xc3\\xb2n (\"Saigon-Style\" banh mi); the most popular form is b\\xc3\\xa1nh m\\xc3\\xac th\\xe1\\xbb\\x8bt (th\\xe1\\xbb\\x8bt means \"meat\"). However, even in Vietnam, \"a b\\xc3\\xa1nh m\\xc3\\xac for breakfast\" implies a meat-filled sandwich for breakfast, not just bread.\\nBanh mi was added to the Oxford English Dictionary on 24 March 2011.\\n\\n\\n== Vietnamese sandwiches ==\\n\\nThe Vietnamese sandwich, sometimes called a \"b\\xc3\\xa1nh m\\xc3\\xac sandwich\", is a product of French colonialism in Indochina, combining ingredients from the French (baguettes, p\\xc3\\xa2t\\xc3\\xa9, jalape\\xc3\\xb1o, and mayonnaise) with native Vietnamese ingredients, such as coriander, cucumber, and pickled carrots and white radish.\\n\\nThe classic version, b\\xc3\\xa1nh m\\xc3\\xac th\\xe1\\xbb\\x8bt ngu\\xe1\\xbb\\x99i, sometimes known as b\\xc3\\xa1nh m\\xc3\\xac \\xc4\\x91\\xe1\\xba\\xb7c bi\\xe1\\xbb\\x87t or \"special combo\", is made with various Vietnamese cold cuts, such as sliced pork or pork bellies, ch\\xe1\\xba\\xa3 l\\xe1\\xbb\\xa5a (pork sausage), and head cheese, along with the liver p\\xc3\\xa2t\\xc3\\xa9 and vegetables like carrot or cucumbers.\\nSome restaurants also offer b\\xc3\\xa1nh m\\xc3\\xac chay, a vegetarian option, made with tofu or seitan. In Vietnam, vegetarian sandwiches are rarely found on the streets. They are usually made at Buddhist temples during special religious events.\\nIn Louisiana, US, a Vietnamese sandwich is known as a \"Vietnamese po boy.\" A restaurant in Philadelphia, US also sells a similar sandwich, marketed as a \"Vietnamese hoagie\".\\nAnother option is the breakfast b\\xc3\\xa1nh m\\xc3\\xac, with scrambled eggs served in a baguette. The version eaten more widely for breakfast in Vietnam contains fried eggs with onions, sprinkled with soy sauce, served on a fresh (and sometimes buttered) baguette.\\nAn ice cream sandwich called b\\xc3\\xa1nh m\\xc3\\xac k\\xe1\\xba\\xb9p kem is commonly sold on the street as a snack. It consists of scoops of ice cream stuffed inside a b\\xc3\\xa1nh m\\xc3\\xac, topped with crushed peanuts.\\n\\n\\n== See also ==\\n\\n\\n== References ==\\n\\n\\n== External links =='),\n",
       " (3334477,\n",
       "  'Baked bean sandwich',\n",
       "  'The baked bean sandwich is a meal consisting of baked beans and butter between two slices of bread.\\n\\n\\n== Origins ==\\nRecipes for a baked bean sandwich can be traced from as early as 1909. One book entitled \"Cooking For Two\" by Janet Mckenzie Hill suggests such a recipe as a \"substitute for meatless cooking\", and is a much more elaborate sandwich compared to its most common manifestation today.\\n\\n\\n== Early recipes ==\\nMany early recipes describe essentially the same product that has become popular today, however in addition they incite elaborate additions of garnish and dressing. Janet McKenzie Hill suggests:\\nButter two slices of Boston Brown Bread; on one of these dispose a heart leaf of lettuce holding one teaspoon of salad dressing; above the dressing set a generous tablespoon of cold, baked beans, then another lettuce leaf and dressing; finish with a second slice of bread, a tablespoonful of beans, a floweret of cauliflower, and a teaspoonful of dressing over the cauliflower.\\n\\n\\n== Particulars ==\\nBaked bean sandwiches have probably become popular because they are very cheap to produce, are reasonably filling, and are extremely quick to prepare. Baked beans are also being more widely regarded \\xe2\\x80\\x93 and marketed \\xe2\\x80\\x93 as being \"healthy\" (although this fact is disputed) increasing their popularity.\\n\\n\\n== See also ==\\n\\nList of sandwiches\\n\\n\\n== References ==')]"
      ]
     },
     "execution_count": 9,
     "metadata": {},
     "output_type": "execute_result"
    }
   ],
   "source": [
    "database_module.select_pages(page_ids,'remote')"
   ]
  },
  {
   "cell_type": "code",
   "execution_count": 10,
   "metadata": {
    "collapsed": false
   },
   "outputs": [
    {
     "name": "stdout",
     "output_type": "stream",
     "text": [
      "Connected to server joshuacook.me.\n"
     ]
    },
    {
     "data": {
      "text/plain": [
       "[('Sandwiches', 757471)]"
      ]
     },
     "execution_count": 10,
     "metadata": {},
     "output_type": "execute_result"
    }
   ],
   "source": [
    "database_module.select_categories_for_page(3334477,'remote')"
   ]
  },
  {
   "cell_type": "code",
   "execution_count": null,
   "metadata": {
    "collapsed": true
   },
   "outputs": [],
   "source": [
    "import encoding_funcs"
   ]
  },
  {
   "cell_type": "code",
   "execution_count": null,
   "metadata": {
    "collapsed": true
   },
   "outputs": [],
   "source": []
  }
 ],
 "metadata": {
  "kernelspec": {
   "display_name": "Python [conda root]",
   "language": "python",
   "name": "conda-root-py"
  },
  "language_info": {
   "codemirror_mode": {
    "name": "ipython",
    "version": 2
   },
   "file_extension": ".py",
   "mimetype": "text/x-python",
   "name": "python",
   "nbconvert_exporter": "python",
   "pygments_lexer": "ipython2",
   "version": "2.7.12"
  }
 },
 "nbformat": 4,
 "nbformat_minor": 1
}
