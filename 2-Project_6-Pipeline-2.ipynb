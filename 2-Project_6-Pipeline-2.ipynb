{
 "cells": [
  {
   "cell_type": "markdown",
   "metadata": {},
   "source": [
    "## Project 6- Pipeline 2 - Search"
   ]
  },
  {
   "cell_type": "code",
   "execution_count": 1,
   "metadata": {
    "collapsed": true
   },
   "outputs": [],
   "source": [
    "import lib.database_module as db\n",
    "import lib.encoding_module as en\n",
    "from sklearn.externals import joblib\n",
    "#transformer = joblib.load('data/vectorizer.pkl')"
   ]
  },
  {
   "cell_type": "code",
   "execution_count": 2,
   "metadata": {
    "collapsed": true
   },
   "outputs": [],
   "source": [
    "search_string = 'bubbles'"
   ]
  },
  {
   "cell_type": "code",
   "execution_count": 3,
   "metadata": {
    "collapsed": false
   },
   "outputs": [
    {
     "name": "stdout",
     "output_type": "stream",
     "text": [
      "OK\n"
     ]
    }
   ],
   "source": [
    "sql = \"\"\"SELECT page, page_id\n",
    "         FROM page \n",
    "         \"\"\"\n",
    "page_texts = db.execute_sql_statement(sql,'local')\n",
    "clean_pages = [x[0] for x in page_texts]\n",
    "page_ids = [x[1] for x in page_texts]"
   ]
  },
  {
   "cell_type": "markdown",
   "metadata": {},
   "source": [
    "I'll just build a new transformer, since I have many more rows than the remote server."
   ]
  },
  {
   "cell_type": "code",
   "execution_count": null,
   "metadata": {
    "collapsed": false
   },
   "outputs": [],
   "source": [
    "transformer = en.build_vectorizer(clean_pages)\n",
    "joblib.dump(transformer, 'data/vectorizer2.pkl')"
   ]
  },
  {
   "cell_type": "code",
   "execution_count": 4,
   "metadata": {
    "collapsed": true
   },
   "outputs": [],
   "source": [
    "transformer = joblib.load('data/vectorizer2.pkl')"
   ]
  },
  {
   "cell_type": "markdown",
   "metadata": {},
   "source": [
    "### Parse: Encode search as document vector\t"
   ]
  },
  {
   "cell_type": "code",
   "execution_count": 5,
   "metadata": {
    "collapsed": true
   },
   "outputs": [
    {
     "data": {
      "text/plain": [
       "{'bubbles': array([[  7.72128980e-03,  -3.12928160e-03,   3.24774443e-03,\n",
       "          -2.48504148e-03,   7.61812091e-04,   3.20403832e-03,\n",
       "           2.12430610e-03,  -2.01797367e-03,  -5.50662039e-03,\n",
       "           2.52223710e-03,   1.97770309e-03,   6.41191556e-03,\n",
       "           4.18997397e-03,  -5.01587926e-03,  -4.45226175e-03,\n",
       "           6.42394659e-04,  -1.13002251e-03,  -4.54448908e-03,\n",
       "           5.09831999e-03,   6.46433290e-03,  -4.85265043e-03,\n",
       "          -6.39291927e-03,   4.13683638e-03,  -1.44077783e-02,\n",
       "           8.18552683e-03,   2.20390998e-02,  -1.11878927e-02,\n",
       "           7.72058248e-03,  -1.30406979e-02,   2.49483772e-02,\n",
       "          -3.25296141e-02,   1.65893698e-02,  -5.23169293e-03,\n",
       "           9.72143904e-03,  -4.72252584e-03,  -9.26355962e-03,\n",
       "          -2.43885005e-02,   8.69155924e-03,  -1.32012249e-02,\n",
       "          -5.52551584e-02,  -8.95138360e-02,  -1.37898772e-04,\n",
       "           4.81034778e-02,   7.52231762e-02,   8.68758818e-02,\n",
       "           3.46251959e-02,   8.74966587e-03,   1.02593404e-02,\n",
       "          -6.27176544e-02,   2.91871400e-02,   1.30110752e-02,\n",
       "          -1.59199593e-02,  -1.96784066e-02,  -7.76452833e-03,\n",
       "          -1.10232193e-02,   5.68822702e-02,   1.17708949e-01,\n",
       "          -3.69778820e-02,  -2.02848747e-02,   6.69283776e-02,\n",
       "           7.15233704e-02,  -9.67351289e-02,  -9.20425194e-02,\n",
       "           4.09666634e-02,  -4.34521091e-02,  -1.65289137e-02,\n",
       "          -4.34325186e-02,  -4.51552159e-02,   1.19681462e-02,\n",
       "          -2.50703891e-03,   1.74017892e-02,   9.60518324e-03,\n",
       "           1.95673433e-02,   1.12207218e-02,  -6.13483588e-02,\n",
       "          -2.49788601e-02,  -2.33503708e-02,  -2.83088703e-02,\n",
       "           3.64722440e-02,   1.07289581e-02,  -4.92206363e-02,\n",
       "          -1.70424075e-02,   3.33183231e-02,   5.96378287e-02,\n",
       "           1.46093840e-02,   3.61257161e-02,   3.39092766e-03,\n",
       "          -1.59062107e-02,   1.54553657e-03,  -2.67275707e-02,\n",
       "          -2.81122513e-02,   1.21376823e-02,   2.21653784e-02,\n",
       "          -3.82245364e-03,  -1.04356166e-02,  -4.09643045e-03,\n",
       "          -3.92829321e-02,  -4.57369389e-02,   2.78019315e-03,\n",
       "          -2.50057071e-02,  -5.75423319e-02,   7.77500338e-04,\n",
       "           7.07905211e-02,  -5.78335993e-02,   5.54812752e-02,\n",
       "          -1.03075062e-02,   6.74061860e-03,   2.78954909e-02,\n",
       "          -1.84940208e-03,  -1.53355275e-02,  -5.06997398e-02,\n",
       "          -1.98420024e-02,  -5.68527613e-03,  -2.89652716e-02,\n",
       "           1.69463957e-02,  -4.09964952e-02,   1.83930406e-02,\n",
       "           1.84085875e-02,  -4.97296464e-02,  -4.79675365e-02,\n",
       "          -6.34311446e-03,   3.27788167e-03,  -4.81200983e-02,\n",
       "           1.68233721e-02,   2.28488339e-02,  -1.92240567e-02,\n",
       "          -8.89401725e-03,   1.36321580e-02,  -5.23224338e-03,\n",
       "          -3.96657420e-03,   1.07582100e-02,   2.07771896e-02,\n",
       "          -1.28463624e-02,  -4.68271105e-02,   5.39628868e-02,\n",
       "          -1.07922633e-02,   6.52946761e-03,   2.19375704e-02,\n",
       "           1.57953667e-02,   5.87379262e-03,   7.05339078e-03,\n",
       "          -4.16281787e-03,  -1.36331444e-02,  -1.43654823e-04,\n",
       "           2.43104019e-02,  -2.79386883e-02,   2.64311301e-02,\n",
       "           1.49776523e-02,   1.15778119e-02,   2.60535624e-02,\n",
       "           3.15767807e-02,   1.96357414e-02,  -1.76896319e-02,\n",
       "           1.61400646e-02,   2.49905530e-02,  -6.44232895e-03,\n",
       "          -4.64372600e-04,  -2.67022524e-03,  -1.23017840e-02,\n",
       "          -2.88218073e-03,  -1.28203626e-02,  -2.43166478e-03,\n",
       "          -7.42617091e-03,   3.45209783e-02,  -1.34723476e-02,\n",
       "          -2.20774253e-02,  -9.65596141e-03,  -2.01986744e-02,\n",
       "           1.40806117e-02,   1.71921204e-02,   4.54190320e-03,\n",
       "           1.67643454e-02,   9.08705804e-04,   6.17611262e-03,\n",
       "          -8.20140755e-03,  -3.93849185e-03,  -8.12788898e-03,\n",
       "          -1.95828505e-02,   7.98160443e-03,  -5.05111236e-04,\n",
       "           1.31601229e-02,   9.21692871e-03,   1.39421228e-02,\n",
       "          -1.18563633e-02,  -6.93481582e-04,  -1.19724273e-02,\n",
       "          -1.29295969e-02,  -1.97774272e-02,   2.40007460e-02,\n",
       "          -1.10513162e-02,  -1.93776845e-02,  -2.82363375e-04,\n",
       "          -2.43978068e-03,   1.06530099e-03,   1.34030986e-02,\n",
       "          -6.89525077e-03,  -2.59425870e-02,   7.02758361e-03,\n",
       "           3.09170471e-02,  -1.43875794e-02,   2.53916689e-03,\n",
       "          -3.81943199e-03,   1.68257976e-02,  -3.02347195e-04,\n",
       "          -4.72300168e-03,  -1.97618762e-03,  -3.28667097e-02,\n",
       "          -3.40200856e-02,  -8.53073025e-03,  -1.77597339e-03,\n",
       "          -3.38559970e-03,   8.15390527e-03,  -1.56164952e-02,\n",
       "           1.56825366e-02,   6.47023154e-03,   1.15383745e-02,\n",
       "          -1.02520857e-02,   1.27695903e-03,  -3.05763755e-03,\n",
       "           1.23153804e-02,   7.65097395e-03,   3.77164974e-03,\n",
       "           2.37873407e-02,  -2.44128965e-04,   2.02569710e-02,\n",
       "           1.33586894e-02,  -6.40864472e-03,  -1.45434753e-02,\n",
       "           2.82419837e-02,  -2.50931542e-03,  -2.41056070e-04,\n",
       "          -4.88690034e-03,   6.34512660e-03,   3.88084306e-03,\n",
       "           1.29959440e-02,   6.05127673e-03,   9.68587732e-03,\n",
       "          -1.41614724e-02,  -3.11323322e-03,   2.78587317e-02,\n",
       "           1.88018056e-02,   8.33721855e-03,  -1.52301580e-02,\n",
       "           3.27184127e-02,  -3.58736786e-03,  -1.61839731e-03,\n",
       "          -1.02352908e-02,  -1.32607353e-04,  -9.35371844e-03,\n",
       "           1.56746949e-02,  -3.62462991e-02,  -1.43860927e-02,\n",
       "          -1.56798867e-02,   4.67635604e-03,  -2.20662769e-04,\n",
       "           1.74102398e-03,  -2.84342056e-02,  -6.24235737e-03,\n",
       "          -1.36237469e-02,  -3.81787243e-02,   5.99941586e-03,\n",
       "          -2.10451054e-03,   4.72056030e-04,   1.00183849e-02,\n",
       "           3.21163002e-03,   1.65356724e-02,   7.61722288e-03,\n",
       "           1.22076157e-02,  -1.26339311e-02,   1.71972013e-02,\n",
       "          -1.51533300e-02,  -3.66011164e-03,  -8.62269934e-04,\n",
       "          -3.23100195e-02,  -6.95763094e-03,   2.01110526e-03,\n",
       "          -1.01413206e-04,   2.65662839e-02,   5.67177403e-04,\n",
       "          -5.19484339e-04,  -1.75777738e-03,   1.92490151e-03,\n",
       "          -1.55063678e-02,  -2.16575546e-02,   1.41988602e-02,\n",
       "           1.41111278e-02,  -2.56183332e-02,  -1.16193164e-03,\n",
       "          -4.17445443e-03,  -2.78961250e-03,  -9.55422991e-03,\n",
       "          -2.53200327e-03,   1.80271277e-02,  -1.41321736e-02,\n",
       "          -3.58379385e-04,   1.77628685e-02,   1.13618413e-03,\n",
       "           1.02365425e-02,  -6.53091481e-04,  -9.16531614e-03,\n",
       "          -5.30807902e-03,  -1.76381869e-02,   2.93048694e-02,\n",
       "           1.49014281e-02,   1.00968617e-02,  -2.40821851e-02,\n",
       "          -2.62395439e-02,   1.94026082e-02,   1.16363527e-03,\n",
       "           2.81500257e-03,  -1.46600602e-02,  -3.93729383e-03,\n",
       "           2.50852888e-03,   1.91598161e-02,   2.77942644e-02,\n",
       "           7.54416253e-04,  -1.37303996e-03,   1.94899122e-02,\n",
       "           3.49098709e-02,   5.46475784e-03,  -2.78323621e-02,\n",
       "           4.92737479e-03,   1.30274997e-02,   4.48665705e-03,\n",
       "           2.26191491e-02,  -1.11461561e-02,  -1.85514154e-02,\n",
       "          -4.47832691e-03,  -9.73495760e-03,  -7.31871283e-03,\n",
       "          -5.94285940e-02,   1.41705759e-02,  -2.90546234e-03,\n",
       "          -5.00496314e-03,  -6.68694386e-03,   1.56885142e-02,\n",
       "          -1.48510956e-02,  -1.20121092e-02,  -1.57809513e-03,\n",
       "           1.03964692e-02,   7.95569213e-03,  -1.99184458e-03,\n",
       "           5.04596451e-03,   2.36644926e-02,  -8.23693621e-04,\n",
       "          -8.37877989e-03,  -8.84884978e-05,   5.16070055e-03,\n",
       "          -1.47132954e-03,   1.69064654e-03,  -1.73713001e-03,\n",
       "          -4.88329787e-03,  -5.59061194e-03,   3.16745691e-03,\n",
       "          -5.22674190e-03,  -3.30552061e-02,  -1.92206510e-02,\n",
       "           4.19014433e-03,   5.28877319e-02,  -3.59814314e-03,\n",
       "          -6.01156396e-03,  -7.02948627e-03,   9.77201535e-03,\n",
       "          -5.33879342e-03,   3.64446578e-02,  -2.04149460e-02,\n",
       "          -1.59978719e-02,  -1.74607205e-03,  -1.29295203e-02,\n",
       "           3.59314344e-04,   8.57430902e-05,  -1.10254175e-02,\n",
       "           3.98781227e-03,  -2.18303918e-02,  -6.70981897e-03,\n",
       "          -6.66599176e-03,   1.07445663e-02,   1.60083039e-02,\n",
       "           1.11929937e-02,  -2.66507146e-02,  -2.94301281e-03,\n",
       "          -3.11233590e-03,   1.21599859e-02,  -2.83182038e-02,\n",
       "          -1.81560663e-02,   1.38637529e-02,   1.41196738e-02,\n",
       "           1.32591758e-02,  -1.15105920e-04,   5.91417060e-03,\n",
       "          -2.85303901e-02,  -8.48135631e-03,   1.60747938e-04,\n",
       "           1.28586958e-02,   1.06808698e-02,   5.41799558e-03,\n",
       "          -4.33007022e-03,   3.08087680e-03,   6.63976651e-03,\n",
       "           3.22938434e-02,  -5.14384433e-03,  -2.63880851e-02,\n",
       "           1.22062144e-02,  -1.43789607e-03,   2.98216577e-03,\n",
       "          -3.96689801e-03,  -1.55700793e-02,   7.37477812e-03,\n",
       "           2.62630797e-02,   2.84639231e-02,  -1.03995270e-02,\n",
       "          -7.07953749e-03,   1.22471836e-02,  -8.52552970e-03,\n",
       "          -5.69370675e-03,   1.17928766e-02,  -5.63390443e-03,\n",
       "          -1.39669743e-02,  -1.28725865e-02,  -3.09174455e-02,\n",
       "          -1.02249827e-02,   1.94237511e-02,  -1.03450605e-03,\n",
       "           3.08283368e-02,   1.43685231e-02,   2.25578653e-02,\n",
       "           1.19005647e-02,   1.92026785e-03,   1.09055615e-02,\n",
       "          -5.44518280e-03,  -8.77632773e-03,   2.08072246e-03,\n",
       "          -1.59221535e-02,  -5.91187754e-04,  -1.70328735e-03,\n",
       "          -1.71176431e-02,   3.01031787e-02,   1.15021940e-02,\n",
       "          -1.23104719e-03,  -2.84822206e-02,   1.12141974e-02,\n",
       "           9.23934574e-03,  -2.35359962e-02,  -2.07217090e-02,\n",
       "           1.77488269e-02,  -1.08917149e-02,   9.85724153e-03,\n",
       "           1.23158555e-02,   2.50585414e-02,  -7.59155406e-03,\n",
       "          -2.11863136e-02,   4.55850724e-03,   2.84100166e-02,\n",
       "          -6.63414645e-05,  -3.47614895e-02,   7.19111566e-03,\n",
       "           4.20000493e-02,  -1.13159610e-02,  -2.53078126e-02,\n",
       "          -1.51507260e-02,   8.36378423e-03,  -8.89756325e-03,\n",
       "           2.64031521e-02,   2.03796177e-03,  -4.52616806e-02,\n",
       "          -1.53283612e-02,   2.08857605e-02,   4.71786008e-03,\n",
       "          -1.08238556e-02,   2.21975278e-02,   1.55880648e-02,\n",
       "          -1.89419525e-02,   3.44767185e-02,   2.08375705e-02,\n",
       "          -2.32926802e-02,  -5.44119651e-03,   9.07249574e-03,\n",
       "           5.98135080e-03,   1.23535879e-03,   1.32152904e-02,\n",
       "          -1.32199247e-02,  -1.04515657e-02,   5.56641704e-03,\n",
       "          -6.93279280e-03,   2.21905297e-02,  -3.54673121e-03,\n",
       "          -5.77609889e-03,   1.08661043e-03,  -3.85356551e-06,\n",
       "          -6.65854786e-04,  -3.34846498e-03,  -3.93532563e-02,\n",
       "           1.02209936e-02,  -3.06633697e-02,   3.41053353e-03,\n",
       "          -1.25329644e-04,  -1.56410781e-02,  -4.77675530e-02,\n",
       "          -1.20178957e-02,  -6.99295053e-04]])}"
      ]
     },
     "execution_count": 5,
     "metadata": {},
     "output_type": "execute_result"
    }
   ],
   "source": [
    "search_string = 'bubbles'\n",
    "search_vector = en.get_searchterm_vector(transformer,search_string)\n",
    "search_vector"
   ]
  },
  {
   "cell_type": "markdown",
   "metadata": {},
   "source": [
    "#### create the vectors for page vector table."
   ]
  },
  {
   "cell_type": "code",
   "execution_count": 6,
   "metadata": {
    "collapsed": false
   },
   "outputs": [
    {
     "data": {
      "text/plain": [
       "(4583, 4583)"
      ]
     },
     "execution_count": 6,
     "metadata": {},
     "output_type": "execute_result"
    }
   ],
   "source": [
    "len(page_ids), len(clean_pages)"
   ]
  },
  {
   "cell_type": "code",
   "execution_count": 7,
   "metadata": {
    "collapsed": true
   },
   "outputs": [],
   "source": [
    "import lib.encoding_funcs as ef"
   ]
  },
  {
   "cell_type": "code",
   "execution_count": null,
   "metadata": {
    "collapsed": true
   },
   "outputs": [],
   "source": [
    "#page_vecs = ef.get_page_vector(transformer, clean_pages[:50], page_ids[:50])"
   ]
  },
  {
   "cell_type": "code",
   "execution_count": 9,
   "metadata": {
    "collapsed": false
   },
   "outputs": [
    {
     "data": {
      "text/plain": [
       "('A sports car (sportscar) is a small, usually two seater, two door automobile designed for spirited performance and nimble handling. According to the Merriam-Webster dictionary, the first known use of the term was in 1928.\\nSports cars may be spartan or luxurious, but high maneuverability and minimum weight are requisite. They may be equipped for racing, especially an aerodynamically shaped one-passenger or two-passenger vehicle having a low center of gravity and steering and suspension designed for precise control at high speeds.\\n\\nEarly history\\nThe definition of a sports car is not precise, but from the earliest first automobiles people have found ways to make them go faster, round corners better, and look more beautiful than the ordinary models inspiring an emotional relationship with a car that is fun to drive and use for the sake of driving. The basis for the sports car is traced to the early 20th century touring cars and roadsters. These raced in early rallies, such as the Herkomer Cup, Prinz-Heinrich-Fahrt, and Monte Carlo.\\nThough the term sports car would not be coined until after World War One, the first sports cars are considered to be the 3 litre 1910 Prince Henry (Prinz Heinrich) Vauxhall 20\\xc2\\xa0hp (tax rating) and the 27/80PS Austro-Daimler designed by Ferdinand Porsche.\\nThese would shortly be joined by the French DFP (which became sporters after tuning by H.M. and W. O. Bentley) and the Rolls-Royce Silver Ghost. In the U.S., where the type was variously called roadster, speedster, runabout, or raceabout, there was Apperson, Kissel, Marion, Midland, National, Overland, Stoddard-Dayton, and Thomas among small models, while Chadwick, Mercer, Stutz, and Simplex were among large models.\\nIn 1921, Ballot premiered its 2LS, with a remarkable 75\\xc2\\xa0hp (56\\xc2\\xa0kW) DOHC two liter, designed by Ernest Henry (formerly of Peugeots Grand Prix program), capable of 150\\xc2\\xa0km/h (93\\xc2\\xa0mph) at most, one hundred were built in four years. This was followed by the SOHC 2LT and 2LTS. The same year, Benz built a supercharged 28/95PS four for the Coppa Florio Max Sailer won.\\nSimson in 1924 offered a Paul Henze-designed 60\\xc2\\xa0hp (45\\xc2\\xa0kW) DOHC 2 liter four, the Simson Supra Type S, in a long-wheelbase 120\\xc2\\xa0km/h (75\\xc2\\xa0mph) tourer and 115\\xc2\\xa0km/h (71\\xc2\\xa0mph) twin-carburettor sporter only thirty were sold, against around three hundred of the SOHC model and 750 of the pushrod-six Type R. Duerkopps Zoller-blown two liter in 1924, as well.\\nThere was a clear cleavage by 1925. As four-seaters were more profitable, two-seaters increasingly turned over to specialist manufacturers, led by Alvis, Aston-Martin, and Frazer-Nash, with shoestring budgets, fanatic followers, and limited sales (today exemplified by Aston and Morgan): between 1921 and 1939, 350 Astons were built 323 Frazer-Nashes in the period 1924\\xe2\\x80\\x9339.\\nBy the end of the 1920s, AC produced a 2-liter six, the 3.5 liter Nazzaro had a three-valve OHC (until 1922), while French makers Amilcar, Bignan and Samson, and Franco-Spanish Hispano-Suiza, had the typical small four-cylinder sporters and Delage, Hotchkiss, and Chenard-Walcker the large tourers. Benz introduced the powerful SS and SSK, and Alfa Romeo, the Vittorio Jano-designed 6C.\\nHispano-Suizas Alfonso XIII is considered the first sportcar developed between 1911 and 1914.\\nTwo companies would offer really reliable sports cars: Austin with the Seven and Morris Garages (MG) with the Midget. The Seven would quickly be rodded by numerous companies (as the Type 1 would be a generation later), including Bassett and Dingle (Hammersmith, London) in 1928, a Cozette blower was fitted to the Seven Super Sports, while Cecil Kimber fitted an 847 cc Minor engine, and sold more Midgets in the first year than MGs entire previous production.\\n\\n\\n\\n\\n\\n\\nLayout\\nThe drive train and engine layout significantly influences the handling characteristics of an automobile, and is crucially important in the design of a sports car.\\nThe front-engine, rear-wheel-drive layout (FR) is common to sports cars of any era and has survived longer in sports cars than in mainstream automobiles. Examples include the Caterham 7, Mazda MX-5, and the Chevrolet Corvette. More specifically, many such sports cars have a FMR layout, with the centre of mass of the engine between the front axle and the firewall.\\nIn search of improved handling and weight distribution, other layouts are sometimes used. The RMR layout is commonly found only in sports cars\\xe2\\x80\\x94the motor is centre-mounted in the chassis (closer to and behind the driver), and powers only the rear wheels. Some high-performance sports car manufacturers, such as Ferrari and Lamborghini have preferred this layout.\\nPorsche is one of the few remaining manufacturers using the rear-engine, rear-wheel-drive layout (RR). The motors distributed weight across the wheels, in a Porsche 911, provides excellent traction, but the significant mass behind the rear wheels makes it more prone to oversteer in some situations. Porsche has continuously refined the design and in recent years added electronic driving aids (i.e. computerised traction-stability control) to counteract these inherent design shortcomings.\\nThe front-engine, front-wheel-drive layout (FF) layout which is the most common in sport compacts and hot hatches, and cars in general, is not generally used for sports cars. This layout is advantageous for small, light, lower power sports cars, as it avoids the extra weight, increased transmission power loss, and packaging problems of a long driveshaft and longitudinal engine of FR vehicles. However, its conservative handling effect, particularly understeer, and the fact that many drivers believe rear wheel drive is a more desirable layout for a sports car count against it. The Fiat Barchetta, Saab Sonett, and Berkeley cars are sports cars with this layout.\\nBefore the 1980s few sports cars used four-wheel drive, which had traditionally added a lot of weight. Although not a sports car, the Audi Quattro proved its worth in rallying. With its improvement in traction, particularly in adverse weather conditions, four-wheel drive is no longer uncommon in high-powered sports cars, e.g. Porsche, Lamborghini, and the Bugatti Veyron.\\n\\n\\n\\n\\n\\n\\n\\n\\n\\n\\n\\n\\nSeating\\nSome sports cars have small back seats that are really only suitable for luggage or small children. Such a configuration is often referred to as a 2+2 (two full seats + two occasional seats). The more typical seating arrangement is two-seats.\\nOver the years, some manufacturers of sports cars have sought to increase the practicality of their vehicles by increasing the seating room. One method is to place the drivers seat in the center of the car, which allows two full-sized passenger seats on each side and slightly behind the driver. The arrangement was originally considered for the Lamborghini Miura, but abandoned as impractical because of the difficulty for the driver to enter/exit the vehicle. McLaren used the design in their F1.\\nAnother British manufacturer, TVR, took a different approach in their Cerbera model. The interior was designed in such a way that the dashboard on the passenger side swept toward the front of the car, which allowed the passenger to sit farther forward than the driver. This gave the rear seat passenger extra room and made the arrangement suitable for three adult passengers and one child seated behind the driver. The arrangement has been referred to by the company as a 3+1. Some Matra sports cars even had three seats squeezed next to each other.\\nTerminology\\nA car may be a sporting automobile without being a sports car. Performance modifications of regular, production cars, such as sport compacts, sports sedans, muscle cars, hot hatches and the like, generally are not considered sports cars, yet share traits common to sports cars. Certain models, such as the AMC AMX can appeal to both muscle car and sports car enthusiasts, two camps that rarely acknowledged each others existences. Some models are sometimes called sports cars for marketing purposes to take advantage of greater marketplace acceptance and for promotional purposes. Performance cars of various configurations are grouped as Sports and Grand tourer cars or, occasionally, as performance cars.\\nSee also\\nReferences\\nExternal links\\nMitani, Sam (March 2005). Best All-Around Sports Car. Road & Track. Archived from the original on 13 February 2007. Retrieved 10 March 2016.\\xc2\\xa0\\nIngenbleek, Jean-Francois LeMaire, Jean (November 1988). What is a Sports Car? (PDF). ASTIN Bulletin. 18 (2). Retrieved 10 March 2016.\\xc2\\xa0\\nDonovan, Sandra (2007). Sports Cars. Lerner Publications. ISBN\\xc2\\xa00-8225-5928-5.\\xc2\\xa0\\n',\n",
       " 146227)"
      ]
     },
     "execution_count": 9,
     "metadata": {},
     "output_type": "execute_result"
    }
   ],
   "source": [
    "page_texts[0]"
   ]
  },
  {
   "cell_type": "code",
   "execution_count": null,
   "metadata": {
    "collapsed": false
   },
   "outputs": [],
   "source": [
    "%%timeit -n 1 -r 1\n",
    "connection, cursor = db.connect_to_postgres('local')\n",
    "cursor.execute('DELETE FROM page_vec;')\n",
    "connection.commit()\n",
    "\n",
    "for text, page_id in page_texts:\n",
    "    vector  = list(transformer.transform([text])[0])\n",
    "    sql = \"\"\"INSERT INTO page_vec (page_id, page_vector)\n",
    "          VALUES ({}, ARRAY{})\n",
    "          on conflict do nothing;\"\"\".format(page_id, vector)\n",
    "    #print sql\n",
    "    cursor.execute(sql)\n",
    "    connection.commit()\n",
    "cursor.close()\n",
    "connection.close()    \n"
   ]
  },
  {
   "cell_type": "code",
   "execution_count": null,
   "metadata": {
    "collapsed": false
   },
   "outputs": [],
   "source": [
    "connection, cursor = db.connect_to_postgres('local')\n",
    "cursor.execute('DELETE FROM page_vec;')\n",
    "connection.commit()\n",
    "for page_id, page_vector in page_vecs.items():\n",
    "    sql = \"\"\"INSERT INTO page_vec (page_id, page_vector)\n",
    "          VALUES ({}, ARRAY{})\"\"\".format(page_id, list(page_vector[0]))\n",
    "    #print sql\n",
    "    temp1 = cursor.execute(sql)\n",
    "    temp2= connection.commit()\n",
    "                     \n",
    "cursor.close()\n",
    "connection.close()"
   ]
  },
  {
   "cell_type": "code",
   "execution_count": null,
   "metadata": {
    "collapsed": false
   },
   "outputs": [],
   "source": [
    "temp1, temp2"
   ]
  },
  {
   "cell_type": "markdown",
   "metadata": {},
   "source": [
    "### Mine: Select document vectors for all pages from database"
   ]
  },
  {
   "cell_type": "code",
   "execution_count": null,
   "metadata": {
    "collapsed": false
   },
   "outputs": [],
   "source": [
    "pages_vectors = db.select_all_page_vectors(location='local')\n"
   ]
  },
  {
   "cell_type": "code",
   "execution_count": null,
   "metadata": {
    "collapsed": false
   },
   "outputs": [],
   "source": [
    "len(pages_vectors)"
   ]
  },
  {
   "cell_type": "code",
   "execution_count": null,
   "metadata": {
    "collapsed": true
   },
   "outputs": [],
   "source": []
  },
  {
   "cell_type": "markdown",
   "metadata": {},
   "source": [
    "### Model: Find five most similar documents based on document vectors"
   ]
  },
  {
   "cell_type": "code",
   "execution_count": null,
   "metadata": {
    "collapsed": true
   },
   "outputs": [],
   "source": [
    "from sklearn.neighbors import NearestNeighbors"
   ]
  },
  {
   "cell_type": "code",
   "execution_count": null,
   "metadata": {
    "collapsed": true
   },
   "outputs": [],
   "source": [
    "\n",
    "\n",
    "\n",
    "page_match_list = []"
   ]
  },
  {
   "cell_type": "markdown",
   "metadata": {},
   "source": [
    "### Mine: Retrieve text for the five most similar documents"
   ]
  },
  {
   "cell_type": "code",
   "execution_count": null,
   "metadata": {
    "collapsed": true
   },
   "outputs": [],
   "source": [
    "\n",
    "match_results = db.select_pages(page_match_list,'local')"
   ]
  },
  {
   "cell_type": "code",
   "execution_count": null,
   "metadata": {
    "collapsed": true
   },
   "outputs": [],
   "source": [
    "\n"
   ]
  },
  {
   "cell_type": "code",
   "execution_count": null,
   "metadata": {
    "collapsed": false
   },
   "outputs": [],
   "source": []
  },
  {
   "cell_type": "markdown",
   "metadata": {},
   "source": [
    "### BONUS: Present: Command is executed via command line script\t"
   ]
  }
 ],
 "metadata": {
  "anaconda-cloud": {},
  "kernelspec": {
   "display_name": "Python [conda root]",
   "language": "python",
   "name": "conda-root-py"
  },
  "language_info": {
   "codemirror_mode": {
    "name": "ipython",
    "version": 2
   },
   "file_extension": ".py",
   "mimetype": "text/x-python",
   "name": "python",
   "nbconvert_exporter": "python",
   "pygments_lexer": "ipython2",
   "version": "2.7.12"
  }
 },
 "nbformat": 4,
 "nbformat_minor": 1
}
