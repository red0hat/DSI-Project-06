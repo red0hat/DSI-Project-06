{
 "cells": [
  {
   "cell_type": "code",
   "execution_count": null,
   "metadata": {
    "collapsed": true
   },
   "outputs": [],
   "source": [
    "from requests import get\n",
    "from urllib import quote\n",
    "import pandas as pd\n",
    "from bs4 import BeautifulSoup"
   ]
  },
  {
   "cell_type": "code",
   "execution_count": null,
   "metadata": {
    "collapsed": true
   },
   "outputs": [],
   "source": [
    "def create_query_param_string(params):\n",
    "    param_list = [key+'='+str(value) for key, value in params.items()]\n",
    "    return '?'+'&'.join(param_list)"
   ]
  },
  {
   "cell_type": "code",
   "execution_count": null,
   "metadata": {
    "collapsed": true
   },
   "outputs": [],
   "source": [
    "def parse_pages_from_json(response_json):\n",
    "    return response_json['query']['pages']\n",
    "\n",
    "def parse_headings_from_json(response_json):\n",
    "    return response_json['mobileview']['sections']\n",
    "\n",
    "#ADDED\n",
    "def parse_category_pages_from_json(response_json):\n",
    "    return response.json()['query']['categorymembers']\n",
    "\n",
    "def wikipedia_page_format(page):\n",
    "    return page.lower().capitalize().replace(' ','_')\n",
    "\n",
    "base_url = \"https://en.wikipedia.org/w/api.php\"\n",
    "\n",
    "def wikipedia_get(title, category=False):\n",
    "    \"\"\"this function returns the text of a wikipedia page\"\"\"\n",
    "    params = { 'action' : 'query',\n",
    "               'format' : 'json',\n",
    "               'prop' : 'extracts',\n",
    "               'exlimit' : 'maxl'\n",
    "             }\n",
    "    \n",
    "    if category:\n",
    "        title = \"Category:\"+title\n",
    "        \n",
    "    params['titles'] = wikipedia_page_format(title)\n",
    "    query_param_string = create_query_param_string(params)\n",
    "    response = get(base_url+query_param_string)\n",
    "    return response.json()['query']['pages']\n",
    "\n",
    "def wikipedia_get_category(category):\n",
    "    params = { 'action' : 'query',\n",
    "               'format' : 'json',\n",
    "               'prop' : 'extracts',\n",
    "               'exlimit' : 'maxl'\n",
    "             }\n",
    "    \n",
    "    params['titles'] = 'Category:'+quote(category)\n",
    "    query_param_string = create_query_param_string(params)\n",
    "    response = get(base_url+query_param_string)\n",
    "    try:\n",
    "        return parse_pages_from_json(response.json())\n",
    "    except:\n",
    "        return response\n",
    "    \n",
    "def wikipedia_get_pages_for_category(category):\n",
    "    params = { 'action' : 'query',\n",
    "               'format' : 'json',\n",
    "               'list' : 'categorymembers',\n",
    "               'cmlimit' : 'max'\n",
    "             }\n",
    "    \n",
    "    params['cmtitle'] = 'Category:'+wikipedia_page_format(category)\n",
    "    query_param_string = create_query_param_string(params)\n",
    "    response = get(base_url+query_param_string)\n",
    "    return response.json()['query']['categorymembers']\n",
    "\n",
    "def wikipedia_get_page_headings(title):\n",
    "    params = { 'action' : 'mobileview',\n",
    "               'format' : 'json',\n",
    "               'prop' : 'sections',\n",
    "               'sections' : 'all'\n",
    "             }\n",
    "    \n",
    "    params['page'] = quote(title)\n",
    "    query_param_string = create_query_param_string(params)\n",
    "    response = get(base_url+query_param_string)\n",
    "    try:\n",
    "        return response.json() #parse_headings_from_json(response.json())\n",
    "    except:\n",
    "        return response"
   ]
  },
  {
   "cell_type": "code",
   "execution_count": null,
   "metadata": {
    "collapsed": false
   },
   "outputs": [],
   "source": [
    "params = { 'action' : 'query',\n",
    "           'format' : 'json',\n",
    "           'prop' : 'extracts',\n",
    "           'exlimit' : 'maxl'\n",
    "             }\n",
    "params ['title'] = 'Category:'+quote('Lunch')\n",
    "print params\n",
    "create_query_param_string(params)"
   ]
  },
  {
   "cell_type": "code",
   "execution_count": null,
   "metadata": {
    "collapsed": true
   },
   "outputs": [],
   "source": [
    "def wikipedia_page_format(page):\n",
    "    return page.lower().capitalize().replace(' ','_')"
   ]
  },
  {
   "cell_type": "code",
   "execution_count": null,
   "metadata": {
    "collapsed": true
   },
   "outputs": [],
   "source": [
    "base_url = \"https://en.wikipedia.org/w/api.php\""
   ]
  },
  {
   "cell_type": "code",
   "execution_count": null,
   "metadata": {
    "collapsed": true
   },
   "outputs": [],
   "source": [
    "def wikipedia_get(title, category=False):\n",
    "    \"\"\"this function returns the text of a wikipedia page\"\"\"\n",
    "    params = { 'action' : 'query',\n",
    "               'format' : 'json',\n",
    "               'prop' : 'extracts',\n",
    "               'exlimit' : 'maxl'\n",
    "             }\n",
    "    \n",
    "    if category:\n",
    "        title = \"Category:\"+title\n",
    "        \n",
    "    params['titles'] = wikipedia_page_format(title)\n",
    "    \n",
    "    query_param_string = create_query_param_string(params)\n",
    "    \n",
    "    response = get(base_url+query_param_string)\n",
    "    \n",
    "    return response.json()['query']['pages']"
   ]
  },
  {
   "cell_type": "code",
   "execution_count": null,
   "metadata": {
    "collapsed": false,
    "scrolled": true
   },
   "outputs": [],
   "source": [
    "a = wikipedia_get('Lunch')\n",
    "b = a['18589377']['extract']"
   ]
  },
  {
   "cell_type": "code",
   "execution_count": null,
   "metadata": {
    "collapsed": false,
    "scrolled": true
   },
   "outputs": [],
   "source": [
    "from bs4 import BeautifulSoup\n",
    "soup = BeautifulSoup(b, \"html.parser\")\n",
    "soup.get_text()"
   ]
  },
  {
   "cell_type": "code",
   "execution_count": null,
   "metadata": {
    "collapsed": true
   },
   "outputs": [],
   "source": [
    "def wikipedia_get_category(category):\n",
    "    params = { 'action' : 'query',\n",
    "               'format' : 'json',\n",
    "               'prop' : 'extracts',\n",
    "               'exlimit' : 'maxl'\n",
    "             }\n",
    "    \n",
    "    params['titles'] = 'Category:'+quote(category)\n",
    "    \n",
    "    query_param_string = create_query_param_string(params)\n",
    "\n",
    "    response = get(base_url+query_param_string)\n",
    "    \n",
    "    try:\n",
    "        return parse_pages_from_json(response.json())\n",
    "    except:\n",
    "        return response"
   ]
  },
  {
   "cell_type": "code",
   "execution_count": null,
   "metadata": {
    "collapsed": false
   },
   "outputs": [],
   "source": [
    "wikipedia_get_category('Automotive technologies')"
   ]
  },
  {
   "cell_type": "markdown",
   "metadata": {},
   "source": [
    "https://en.wikipedia.org/?curid=859604"
   ]
  },
  {
   "cell_type": "code",
   "execution_count": null,
   "metadata": {
    "collapsed": true
   },
   "outputs": [],
   "source": [
    "def wikipedia_get_pages_for_category(category):\n",
    "    params = { 'action' : 'query',\n",
    "               'format' : 'json',\n",
    "               'list' : 'categorymembers',\n",
    "               'cmlimit' : 'max'\n",
    "             }\n",
    "    \n",
    "    params['cmtitle'] = 'Category:'+wikipedia_page_format(category)\n",
    "    \n",
    "    query_param_string = create_query_param_string(params)\n",
    "    \n",
    "    response = get(base_url+query_param_string)\n",
    "        \n",
    "    return response.json()['query']['categorymembers']\n",
    "    \n",
    "    try:\n",
    "        return parse_headings_from_json(response.json())\n",
    "    except:\n",
    "        return response"
   ]
  },
  {
   "cell_type": "code",
   "execution_count": null,
   "metadata": {
    "collapsed": false
   },
   "outputs": [],
   "source": [
    "wiki_pages_automotive_techs = wikipedia_get_pages_for_category('Automotive technologies')\n",
    "wiki_pages_automotive_techs = wiki_pages_automotive_techs[1:]\n",
    "wiki_pages_automotive_techs"
   ]
  },
  {
   "cell_type": "code",
   "execution_count": null,
   "metadata": {
    "collapsed": false
   },
   "outputs": [],
   "source": [
    "ID = [wiki_pages_automotive_techs[i]['pageid'] for i in range(len(wiki_pages_automotive_techs))]\n",
    "title = [wiki_pages_automotive_techs[i]['title'] for i in range(len(wiki_pages_automotive_techs))]\n",
    "ID_title = zip(ID, title)"
   ]
  },
  {
   "cell_type": "code",
   "execution_count": null,
   "metadata": {
    "collapsed": false
   },
   "outputs": [],
   "source": [
    "ID_title"
   ]
  },
  {
   "cell_type": "code",
   "execution_count": null,
   "metadata": {
    "collapsed": false,
    "scrolled": true
   },
   "outputs": [],
   "source": [
    "wiki_pages_automotive_techs_df = pd.DataFrame(wiki_pages_automotive_techs)\n",
    "wiki_pages_automotive_techs_df"
   ]
  },
  {
   "cell_type": "code",
   "execution_count": null,
   "metadata": {
    "collapsed": false
   },
   "outputs": [],
   "source": [
    "len(wiki_pages_automotive_techs)"
   ]
  },
  {
   "cell_type": "code",
   "execution_count": null,
   "metadata": {
    "collapsed": false
   },
   "outputs": [],
   "source": [
    "type(wiki_pages_automotive_techs)"
   ]
  },
  {
   "cell_type": "markdown",
   "metadata": {},
   "source": [
    "### Sections/Headings"
   ]
  },
  {
   "cell_type": "code",
   "execution_count": null,
   "metadata": {
    "collapsed": true
   },
   "outputs": [],
   "source": [
    "def wikipedia_get_page_headings(title):\n",
    "    params = { 'action' : 'mobileview',\n",
    "               'format' : 'json',\n",
    "               'prop' : 'sections',\n",
    "               'sections' : 'all'\n",
    "             }\n",
    "    \n",
    "    params['page'] = quote(title)\n",
    "    \n",
    "    query_param_string = create_query_param_string(params)\n",
    "    \n",
    "    response = get(base_url+query_param_string)\n",
    "    \n",
    "    try:\n",
    "        return response.json() #parse_headings_from_json(response.json())\n",
    "    except:\n",
    "        return response"
   ]
  },
  {
   "cell_type": "code",
   "execution_count": null,
   "metadata": {
    "collapsed": false
   },
   "outputs": [],
   "source": [
    "wiki_pages_headings_automotive_techs = {}\n",
    "for i in wiki_pages_automotive_techs_df['title']:\n",
    "    b = wikipedia_get_page_headings(i)\n",
    "    wiki_pages_headings_automotive_techs[i] = b\n",
    "# [wikipedia_get_page_headings(title) for title in wiki_pages_automotive_techs_df['title']]"
   ]
  },
  {
   "cell_type": "code",
   "execution_count": null,
   "metadata": {
    "collapsed": false,
    "scrolled": true
   },
   "outputs": [],
   "source": [
    "wiki_pages_headings_automotive_techs"
   ]
  },
  {
   "cell_type": "code",
   "execution_count": null,
   "metadata": {
    "collapsed": true
   },
   "outputs": [],
   "source": [
    "def wikipedia_get_page_headings2(title):\n",
    "    params = { 'action' : 'mobileview',\n",
    "               'format' : 'json',\n",
    "               'prop' : 'sections',\n",
    "               'sections' : 'all'\n",
    "             }\n",
    "    \n",
    "    params['page'] = quote(title)\n",
    "    \n",
    "    query_param_string = create_query_param_string(params)\n",
    "    \n",
    "    response = get(base_url+query_param_string)\n",
    "    \n",
    "    try:\n",
    "        return parse_headings_from_json(response.json())\n",
    "    except:\n",
    "        return response"
   ]
  },
  {
   "cell_type": "code",
   "execution_count": null,
   "metadata": {
    "collapsed": false
   },
   "outputs": [],
   "source": [
    "wiki_pages_headings_automotive_techs2 = {}\n",
    "for i in wiki_pages_automotive_techs_df['title']:\n",
    "    b = wikipedia_get_page_headings2(i)\n",
    "    wiki_pages_headings_automotive_techs2[i] = b\n",
    "wiki_pages_headings_automotive_techs2"
   ]
  },
  {
   "cell_type": "code",
   "execution_count": null,
   "metadata": {
    "collapsed": false
   },
   "outputs": [],
   "source": [
    "wiki_categid_section = {}\n",
    "for l in range(len(ID_title)):\n",
    "    wiki_categid_section[ID_title[l][0]] = wiki_pages_headings_automotive_techs[ID_title[l][1]]\n",
    "wiki_categid_section"
   ]
  },
  {
   "cell_type": "code",
   "execution_count": null,
   "metadata": {
    "collapsed": false
   },
   "outputs": [],
   "source": [
    "wiki_categid_section_S = []\n",
    "row = {}\n",
    "for categid, categ in ID_title:\n",
    "    categdd = wiki_categid_section[categid]['mobileview']['sections'][1:]\n",
    "    for x in range(len(categdd)):\n",
    "        row = {'categ_id':categid, 'section_id':categdd[x]['id'], 'section_name':categdd[x]['line']}\n",
    "        wiki_categid_section_S.append(row)\n",
    "wiki_categid_section_S"
   ]
  },
  {
   "cell_type": "code",
   "execution_count": null,
   "metadata": {
    "collapsed": false,
    "scrolled": true
   },
   "outputs": [],
   "source": [
    "wiki_categid_section_df = pd.DataFrame(wiki_categid_section_S)\n",
    "wiki_categid_section_df"
   ]
  },
  {
   "cell_type": "code",
   "execution_count": null,
   "metadata": {
    "collapsed": false,
    "scrolled": false
   },
   "outputs": [],
   "source": [
    "import requests\n",
    "response = get(\"https://en.wikipedia.org/?curid=7446779\")\n",
    "test_text = response.text"
   ]
  },
  {
   "cell_type": "code",
   "execution_count": null,
   "metadata": {
    "collapsed": true
   },
   "outputs": [],
   "source": [
    "from bs4 import BeautifulSoup"
   ]
  },
  {
   "cell_type": "code",
   "execution_count": null,
   "metadata": {
    "collapsed": false
   },
   "outputs": [],
   "source": [
    "soup = BeautifulSoup(test_text)"
   ]
  },
  {
   "cell_type": "code",
   "execution_count": null,
   "metadata": {
    "collapsed": false
   },
   "outputs": [],
   "source": [
    "soup"
   ]
  },
  {
   "cell_type": "code",
   "execution_count": null,
   "metadata": {
    "collapsed": false
   },
   "outputs": [],
   "source": [
    "# >>> r = requests.get('https://api.github.com')\n",
    "# >>> r.status_code\n",
    "# 200\n",
    "# >>> r.headers['content-type']\n",
    "# 'application/json; charset=utf8'\n",
    "# >>> r.encoding\n",
    "# 'utf-8'\n",
    "# >>> r.text\n",
    "# u'{\"type\":\"User\"...'\n",
    "# >>> r.json()\n",
    "# {u'private_gists': 419, u'total_private_repos': 77, ...}"
   ]
  },
  {
   "cell_type": "code",
   "execution_count": null,
   "metadata": {
    "collapsed": false,
    "scrolled": true
   },
   "outputs": [],
   "source": [
    "import requests\n",
    "response = get(\"https://en.wikipedia.org/wiki/AC_Propulsion_eBox\")\n",
    "response.text"
   ]
  },
  {
   "cell_type": "code",
   "execution_count": null,
   "metadata": {
    "collapsed": false
   },
   "outputs": [],
   "source": [
    "!pip install wikipedia"
   ]
  },
  {
   "cell_type": "code",
   "execution_count": null,
   "metadata": {
    "collapsed": false
   },
   "outputs": [],
   "source": [
    "import wikipedia\n",
    "a = wikipedia.page(\"AC Propulsion eBox\")\n",
    "a.content"
   ]
  },
  {
   "cell_type": "code",
   "execution_count": null,
   "metadata": {
    "collapsed": false
   },
   "outputs": [],
   "source": [
    "wiki_pages_automotive_techs_df[\\\n",
    "                               wiki_pages_automotive_techs_df['title']==\"AC Propulsion eBox\"][\"pageid\"]"
   ]
  },
  {
   "cell_type": "code",
   "execution_count": null,
   "metadata": {
    "collapsed": true
   },
   "outputs": [],
   "source": []
  },
  {
   "cell_type": "code",
   "execution_count": null,
   "metadata": {
    "collapsed": true
   },
   "outputs": [],
   "source": []
  }
 ],
 "metadata": {
  "anaconda-cloud": {},
  "kernelspec": {
   "display_name": "Python [default]",
   "language": "python",
   "name": "python2"
  },
  "language_info": {
   "codemirror_mode": {
    "name": "ipython",
    "version": 2
   },
   "file_extension": ".py",
   "mimetype": "text/x-python",
   "name": "python",
   "nbconvert_exporter": "python",
   "pygments_lexer": "ipython2",
   "version": "2.7.12"
  }
 },
 "nbformat": 4,
 "nbformat_minor": 1
}
