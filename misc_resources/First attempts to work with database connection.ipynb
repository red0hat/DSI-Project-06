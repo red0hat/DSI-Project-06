{
 "cells": [
  {
   "cell_type": "code",
   "execution_count": 4,
   "metadata": {
    "collapsed": false
   },
   "outputs": [],
   "source": [
    "import pandas as pd\n",
    "import sqlalchemy\n",
    "from database_connections import connect_to_postgres\n",
    "import unidecode\n",
    "import yaml\n",
    "import json\n",
    "from requests import get\n",
    "from urllib import quote\n",
    "import numpy as np\n",
    "from bs4 import BeautifulSoup\n",
    "import psycopg2"
   ]
  },
  {
   "cell_type": "code",
   "execution_count": 5,
   "metadata": {
    "collapsed": false
   },
   "outputs": [
    {
     "name": "stdout",
     "output_type": "stream",
     "text": [
      "Connected to server joshuacook.me.\n"
     ]
    }
   ],
   "source": [
    "connection, cursor = connect_to_postgres()\n"
   ]
  },
  {
   "cell_type": "code",
   "execution_count": 6,
   "metadata": {
    "collapsed": false
   },
   "outputs": [],
   "source": [
    "cursor.close()\n",
    "connection.close()"
   ]
  },
  {
   "cell_type": "code",
   "execution_count": null,
   "metadata": {
    "collapsed": false
   },
   "outputs": [],
   "source": [
    "connection.status\n",
    "connection ,cursor = connect_to_postgres()\n",
    "sql = \"\"\"\n",
    "    SELECT * FROM category;\n",
    "    \"\"\"\n",
    "cursor.execute(sql)\n",
    "\n",
    "print cursor.fetchone()\n",
    "print cursor.fetchone()\n",
    "cursor.close()\n",
    "connection.close()"
   ]
  },
  {
   "cell_type": "code",
   "execution_count": null,
   "metadata": {
    "collapsed": false
   },
   "outputs": [],
   "source": [
    "connection.status\n",
    "connection ,cursor = connect_to_postgres(location = 'remote')\n",
    "sql = \"\"\"\n",
    "        INSERT INTO category (category_id, category_name)\n",
    "        VALUES (757471,'Sandwiches');\n",
    "    \"\"\"\n",
    "cursor.execute(sql)\n",
    "\n",
    "connection.close()"
   ]
  },
  {
   "cell_type": "code",
   "execution_count": null,
   "metadata": {
    "collapsed": false
   },
   "outputs": [],
   "source": [
    "def create_query_param_string(params):\n",
    "    param_list = [key+'='+value for key, value in params.items()]\n",
    "    return '?'+'&'.join(param_list)\n",
    "def wikipedia_page_format(page):\n",
    "    return page.replace(' ','_')"
   ]
  },
  {
   "cell_type": "code",
   "execution_count": null,
   "metadata": {
    "collapsed": true
   },
   "outputs": [],
   "source": [
    "def parse_pages_from_json(response_json):\n",
    "    return response_json['query']['pages']\n",
    "\n",
    "def parse_headings_from_json(response_json):\n",
    "    return response_json['mobileview']['sections']\n"
   ]
  },
  {
   "cell_type": "code",
   "execution_count": null,
   "metadata": {
    "collapsed": false
   },
   "outputs": [],
   "source": [
    "def wikipedia_get_cagegory(category):\n",
    "    params = { 'action' : 'query',\n",
    "               'format' : 'json',\n",
    "               'prop' : 'extracts',\n",
    "               'exlimit' : 'maxl'\n",
    "             }\n",
    "    params['titles'] = 'Category:'+quote(category)\n",
    "    query_param_string = create_query_param_string(params)\n",
    "    response = get(base_url+query_param_string)\n",
    "    \n",
    "    try:\n",
    "        return parse_pages_from_json(response.json())\n",
    "    except:\n",
    "        return response\n",
    "\n",
    "def wikipedia_get_pages_for_category(category):\n",
    "    params = { 'action' : 'query',\n",
    "               'format' : 'json',\n",
    "               'list' : 'categorymembers',\n",
    "               'cmlimit' : 'max'\n",
    "             }\n",
    "    \n",
    "    params['cmtitle'] = 'Category:'+wikipedia_page_format(category)\n",
    "    query_param_string = create_query_param_string(params)\n",
    "    response = get(base_url+query_param_string)\n",
    "    \n",
    "    return response.json()['query']['categorymembers']\n",
    "    \n",
    "    try:\n",
    "        return parse_headings_from_json(response.json())\n",
    "    except:\n",
    "        return response\n",
    "    \n",
    "def wikipedia_get_page(title, category=False):\n",
    "    \"\"\" Get the text of a wikipedia page\"\"\"\n",
    "    \n",
    "    params = { 'action' : 'query',\n",
    "               'format' : 'json',\n",
    "               'prop' : 'extracts',\n",
    "               'exlimit' : 'maxl'\n",
    "        \n",
    "    }\n",
    "    \n",
    "    if category:\n",
    "        title = \"Category:\"+title\n",
    "        \n",
    "    params['titles'] = wikipedia_page_format(title)\n",
    "    \n",
    "    query_param_string = create_query_param_string(params)\n",
    "    \n",
    "    response = get(base_url+query_param_string)\n",
    "    \n",
    "    return response.json()['query']['pages']\n"
   ]
  },
  {
   "cell_type": "code",
   "execution_count": null,
   "metadata": {
    "collapsed": true
   },
   "outputs": [],
   "source": [
    "def add_category_to_database (category_id, category_name):\n",
    "    connection ,cursor = connect_to_postgres(location = 'remote')\n",
    "    insert_category_sql = \"\"\"\n",
    "    INSERT INTO category\n",
    "    (category_id, category_name) VALUES ({}, {});\n",
    "    \"\"\".format(category_id,category_name)\n",
    "    cursor.execute(insert_category_sql)\n",
    "    connection.commit()\n",
    "    connection.close()"
   ]
  },
  {
   "cell_type": "code",
   "execution_count": null,
   "metadata": {
    "collapsed": true
   },
   "outputs": [],
   "source": [
    "base_url = \"https://en.wikipedia.org/w/api.php\"\n"
   ]
  },
  {
   "cell_type": "code",
   "execution_count": null,
   "metadata": {
    "collapsed": false
   },
   "outputs": [],
   "source": [
    "category_dict = wikipedia_get_cagegory('sandwiches')"
   ]
  },
  {
   "cell_type": "code",
   "execution_count": null,
   "metadata": {
    "collapsed": false
   },
   "outputs": [],
   "source": [
    "category_number = int(unidecode.unidecode(category_dict.keys()[0]))"
   ]
  },
  {
   "cell_type": "code",
   "execution_count": null,
   "metadata": {
    "collapsed": true
   },
   "outputs": [],
   "source": [
    "# insert category_number and 'sandwiches' in the database, \"category\" table."
   ]
  },
  {
   "cell_type": "code",
   "execution_count": null,
   "metadata": {
    "collapsed": false
   },
   "outputs": [],
   "source": [
    "pages_list= wikipedia_get_pages_for_category('sandwiches')\n"
   ]
  },
  {
   "cell_type": "code",
   "execution_count": null,
   "metadata": {
    "collapsed": false
   },
   "outputs": [],
   "source": [
    "pages_list\n",
    "page_id_to_query =[id['pageid'] for id in pages_list ]\n",
    "page_name_to_query = [id['title'] for id in pages_list ]"
   ]
  },
  {
   "cell_type": "code",
   "execution_count": null,
   "metadata": {
    "collapsed": true
   },
   "outputs": [],
   "source": [
    "page_df = pd.DataFrame(zip (page_id_to_query, page_name_to_query),columns =['pageid','title'])"
   ]
  },
  {
   "cell_type": "code",
   "execution_count": null,
   "metadata": {
    "collapsed": false
   },
   "outputs": [],
   "source": [
    "page_df = page_df[np.invert(page_df['title'].str.contains('Category:', na = False))].head()"
   ]
  },
  {
   "cell_type": "code",
   "execution_count": null,
   "metadata": {
    "collapsed": false
   },
   "outputs": [],
   "source": [
    "page_df['query_string'] = page_df['title'].apply(wikipedia_page_format)"
   ]
  },
  {
   "cell_type": "code",
   "execution_count": null,
   "metadata": {
    "collapsed": false,
    "scrolled": true
   },
   "outputs": [],
   "source": [
    "page_df['html'] = page_df['title'].apply(wikipedia_get_page)"
   ]
  },
  {
   "cell_type": "code",
   "execution_count": null,
   "metadata": {
    "collapsed": false,
    "scrolled": true
   },
   "outputs": [],
   "source": [
    "def soup_text (wiki_stream):\n",
    "    return BeautifulSoup(wiki_stream[wiki_stream.keys()[0]][u'extract'],'html.parser').get_text()"
   ]
  },
  {
   "cell_type": "code",
   "execution_count": null,
   "metadata": {
    "collapsed": true
   },
   "outputs": [],
   "source": [
    "page_df['page_text'] = page_df['html'].apply(soup_text)"
   ]
  },
  {
   "cell_type": "code",
   "execution_count": null,
   "metadata": {
    "collapsed": false
   },
   "outputs": [],
   "source": [
    "temp1 = wikipedia_get_page('Afghani_burger')\n",
    "soup_text(temp1)"
   ]
  },
  {
   "cell_type": "code",
   "execution_count": null,
   "metadata": {
    "collapsed": false
   },
   "outputs": [],
   "source": [
    "page_df"
   ]
  },
  {
   "cell_type": "code",
   "execution_count": null,
   "metadata": {
    "collapsed": false
   },
   "outputs": [],
   "source": [
    "page_df_export = page_df[['pageid','title','page_text']]\n",
    "             \n",
    "page_df_export.columns = ['page_id','title','page_content']"
   ]
  },
  {
   "cell_type": "code",
   "execution_count": null,
   "metadata": {
    "collapsed": false
   },
   "outputs": [],
   "source": [
    "page_df_export['category_id'] = category_number"
   ]
  },
  {
   "cell_type": "code",
   "execution_count": null,
   "metadata": {
    "collapsed": false
   },
   "outputs": [],
   "source": [
    "engine.url\n"
   ]
  },
  {
   "cell_type": "code",
   "execution_count": null,
   "metadata": {
    "collapsed": false
   },
   "outputs": [],
   "source": [
    "page_df_export[['page_id', 'title']].to_sql('page',engine,if_exists='append', index = False)"
   ]
  },
  {
   "cell_type": "code",
   "execution_count": null,
   "metadata": {
    "collapsed": true
   },
   "outputs": [],
   "source": [
    "engine.dispose()"
   ]
  },
  {
   "cell_type": "code",
   "execution_count": null,
   "metadata": {
    "collapsed": false
   },
   "outputs": [],
   "source": [
    "category_number"
   ]
  },
  {
   "cell_type": "code",
   "execution_count": null,
   "metadata": {
    "collapsed": false
   },
   "outputs": [],
   "source": []
  },
  {
   "cell_type": "code",
   "execution_count": null,
   "metadata": {
    "collapsed": false
   },
   "outputs": [],
   "source": [
    "update_sql = \"\"\"\n",
    "    INSERT INTO category\n",
    "    (category_id, category_name) VALUES (757471, 'Sandwiches');\n",
    "    \"\"\"\n",
    "cursors.execute(update_sql)\n",
    "connection.commit()\n",
    "connection.close()"
   ]
  },
  {
   "cell_type": "code",
   "execution_count": null,
   "metadata": {
    "collapsed": true
   },
   "outputs": [],
   "source": [
    "import wikipedia\n",
    "temp2 = wikipedia.page('Gua Bao')\n",
    "print \"pageid: {}\".format(temp2.pageid)\n",
    "print \"text: \" +temp2.content"
   ]
  },
  {
   "cell_type": "code",
   "execution_count": null,
   "metadata": {
    "collapsed": true
   },
   "outputs": [],
   "source": [
    "import psycopg2\n",
    "from database_connections import connect_to_postgres, assign_connection_values"
   ]
  },
  {
   "cell_type": "code",
   "execution_count": null,
   "metadata": {
    "collapsed": false
   },
   "outputs": [],
   "source": [
    "cred = {'remote': {\"user\" : \"chris\", \"password\" : \"till means newspaper wear\",\n",
    "                   'host' : \"joshuacook.me\", 'dbname' :'project_6'},\n",
    " 'local' :  {\"user_name\" : \"chris\", \"password\" : \"What44for\",'host' : \"localhost\", 'database' : \"project6\"}\n",
    " }\n",
    "\n",
    "connection = psycopg2.connect(**cred['remote'])"
   ]
  },
  {
   "cell_type": "code",
   "execution_count": null,
   "metadata": {
    "collapsed": false
   },
   "outputs": [],
   "source": [
    "def connect_to_postgres (location = 'remote', port = '5432'):\n",
    "\n",
    "    with open('Database_credentials', 'r') as f:\n",
    "        credentials =  yaml.load(f)\n",
    "    print credentials[location]\n",
    "    \n",
    "    try:\n",
    "        connection = psycopg2.connect(**credentials[location])\n",
    "        print \"Connected to server {}.\".format(credentials[location]['host'])\n",
    "        return connection, connection.cursor()\n",
    "    except:\n",
    "        print 'FAILED to connect to server {}.  Trying local server.'.format(credentials[location]['host'])\n",
    "        try:\n",
    "            connection = psycopg2.connect(**credentials['local'])\n",
    "            print \"Conencted to localhost.\"\n",
    "            return connection, connection.cursor()\n",
    "        except:\n",
    "            print \"No Database is available\"\n",
    "            pass "
   ]
  },
  {
   "cell_type": "code",
   "execution_count": null,
   "metadata": {
    "collapsed": false
   },
   "outputs": [],
   "source": [
    "connect_to_postgres()"
   ]
  },
  {
   "cell_type": "code",
   "execution_count": null,
   "metadata": {
    "collapsed": false
   },
   "outputs": [],
   "source": [
    "connection.close()"
   ]
  },
  {
   "cell_type": "code",
   "execution_count": null,
   "metadata": {
    "collapsed": true
   },
   "outputs": [],
   "source": []
  }
 ],
 "metadata": {
  "anaconda-cloud": {},
  "kernelspec": {
   "display_name": "Python [conda root]",
   "language": "python",
   "name": "conda-root-py"
  },
  "language_info": {
   "codemirror_mode": {
    "name": "ipython",
    "version": 2
   },
   "file_extension": ".py",
   "mimetype": "text/x-python",
   "name": "python",
   "nbconvert_exporter": "python",
   "pygments_lexer": "ipython2",
   "version": "2.7.12"
  }
 },
 "nbformat": 4,
 "nbformat_minor": 1
}
